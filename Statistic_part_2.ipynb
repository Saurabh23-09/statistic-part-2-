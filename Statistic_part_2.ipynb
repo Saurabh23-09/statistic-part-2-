{
  "nbformat": 4,
  "nbformat_minor": 0,
  "metadata": {
    "colab": {
      "provenance": []
    },
    "kernelspec": {
      "name": "python3",
      "display_name": "Python 3"
    },
    "language_info": {
      "name": "python"
    }
  },
  "cells": [
    {
      "cell_type": "markdown",
      "source": [
        "# THEORATICAL QUESTIONS"
      ],
      "metadata": {
        "id": "EncDxxQAddrt"
      }
    },
    {
      "cell_type": "markdown",
      "source": [
        "QUES 1 - What is hypothesis testing in statistics?\n",
        "<!-- ANS 1 -  Hypothesis testing is a core statistical method used to make data-driven decisions about population parameters (like means, proportions, variances) based on sample data. It's a structured way to evaluate the validity of a claim (hypothesis) about a population. -->/\n",
        "\n",
        " QUES 2 - What is the null hypothesis, and how does it differ from the alternative hypothesis?\n",
        " <!-- ANS 2 - Hypothesis testing revolves around comparing two competing statements about a population parameter (e.g., mean, proportion, variance). The null hypothesis (H₀) and the alternative hypothesis (H₁) serve different roles in statistical testing. -->\n",
        "\n",
        "<!-- 1. Null Hypothesis (H₀)\n",
        "Represents the default position, \"no effect,\" or \"no difference.\"\n",
        "\n",
        "Often assumes that any observed effect is due to random chance.\n",
        "\n",
        "Typically includes an equality sign (=, ≤, or ≥).\n",
        "\n",
        "The goal is to test whether we can reject H₀ based on sample data.\n",
        " <!-- 2. Alternative Hypothesis (H₁ or Hₐ)\n",
        "Represents the researcher’s claim—what they want to prove.\n",
        "\n",
        "Suggests a real effect, difference, or change from the null hypothesis.\n",
        "\n",
        "Contains ≠ (two-tailed), > (right-tailed), or < (left-tailed).\n",
        "\n",
        "Only considered if the data provides strong enough evidence against H₀. -->\n",
        " QUES 3 -  What is the significance level in hypothesis testing, and why is it important ?\n",
        " <!-- ANS 3 - Significance Level (α) in Hypothesis Testing\n",
        "The significance level (α) is a critical threshold in hypothesis testing that determines how much evidence is required to reject the null hypothesis (H₀). It represents the maximum probability of making a Type I error—rejecting H₀ when it is actually true (a false positive).\n",
        "\n",
        "Key Properties of the Significance Level (α)\n",
        "Predefined Threshold\n",
        "\n",
        "Typically set at α = 0.05 (5%), but stricter fields (e.g., medicine, physics) may use α = 0.01 (1%).\n",
        "\n",
        "Chosen before conducting the test to avoid bias.\n",
        "\n",
        "Decision Rule\n",
        "\n",
        "Compare the p-value (probability of observing the data if H₀ is true) to α:\n",
        "\n",
        "If p-value ≤ α → Reject H₀ (statistically significant result).\n",
        "\n",
        "If p-value > α → Fail to reject H₀ (not enough evidence).\n",
        "\n",
        "Controls Type I Error (False Positive)\n",
        "\n",
        "α = Probability of rejecting H₀ when it’s true.\n",
        "\n",
        "Example: If α = 0.05, there’s a 5% risk of falsely concluding an effect exists when it doesn’t.\n",
        "\n",
        "Trade-off with Type II Error (False Negative)\n",
        "\n",
        "Lowering α (e.g., from 0.05 to 0.01) reduces false positives but increases the chance of missing a real effect (Type II error, β).\n",
        "\n",
        "Balancing α and β depends on the study’s goals.\n",
        "\n",
        "Why is the Significance Level Important?\n",
        "Standardizes Decision-Making\n",
        "\n",
        "Provides an objective cutoff for determining statistical significance.\n",
        "\n",
        "Without α, researchers might arbitrarily decide when to reject H₀.\n",
        "\n",
        "Controls False Discoveries\n",
        "\n",
        "In fields like medicine or policy, false positives can have serious consequences (e.g., approving an ineffective drug).\n",
        "\n",
        "A strict α (e.g., 0.01) reduces the risk of incorrect conclusions.\n",
        "\n",
        "Determines Statistical Power\n",
        "\n",
        "Power = Probability of correctly rejecting H₀ when it’s false (1 - β).\n",
        "\n",
        "Lower α → Higher risk of Type II error → Lower power (unless sample size increases).\n",
        "\n",
        "Facilitates Reproducibility\n",
        "\n",
        "Using a standard α (e.g., 0.05) allows consistent interpretation across studies.-->\n",
        "QUES 4 -  What does a P-value represent in hypothesis testing?\n",
        " <!-- ANS 4 - The p-value is the probability of observing a test statistic at least as extreme as the one calculated from your sample, assuming the null hypothesis (H₀) is true.\n",
        "\n",
        "In simpler terms:\n",
        "\n",
        "It tells you how surprising your data is if H₀ were correct.\n",
        "\n",
        "A small p-value suggests that your data is unlikely under H₀, implying that H₀ may be false.\n",
        "\n",
        "A large p-value means your data is consistent with H₀, so there’s no strong reason to reject it. -->\n",
        " QUES 5 -  How do you interpret the P-value in hypothesis testing?\n",
        " <!-- ANS 5 - The p-value is a crucial metric that helps determine whether your data provides enough evidence to reject the null hypothesis (H₀). Here’s how to interpret it correctly:\n",
        "\n",
        "1. Definition Recap\n",
        "The p-value is the probability of observing your sample results (or more extreme results) if the null hypothesis (H₀) were true.\n",
        "\n",
        "Low p-value (≤ α, e.g., ≤ 0.05) → Strong evidence against H₀ → Reject H₀.\n",
        "\n",
        "High p-value (> α, e.g., > 0.05) → Weak evidence against H₀ → Fail to reject H₀.\n",
        "\n",
        "2. Step-by-Step Interpretation\n",
        "Step 1: Set a Significance Level (α)\n",
        "Common choices: α = 0.05 (5%), 0.01 (1%), or 0.10 (10%).\n",
        "\n",
        "This is your threshold for deciding whether the p-value is \"small enough\" to reject H₀.\n",
        "\n",
        "Step 2: Compare P-Value to α\n",
        "P-Value (p)\tInterpretation\tDecision\n",
        "p ≤ α (e.g., p = 0.03, α = 0.05)\tThe observed data is unlikely under H₀.\tReject H₀ (supports H₁).\n",
        "p > α (e.g., p = 0.20, α = 0.05)\tThe observed data is plausible under H₀.\tFail to reject H₀ (no strong evidence against it).\n",
        "Step 3: Contextual Conclusion\n",
        "If you reject H₀:\n",
        "\n",
        "\"There is statistically significant evidence at the α level to support [alternative hypothesis].\"\n",
        "\n",
        "Example: \"At α = 0.05, we reject H₀ and conclude that the new drug lowers blood pressure (p = 0.02).\"\n",
        "\n",
        "If you fail to reject H₀:\n",
        "\n",
        "\"There is not enough evidence at the α level to conclude [alternative hypothesis].\"\n",
        "\n",
        "Example: \"At α = 0.05, we fail to reject H₀ (p = 0.12), so we cannot conclude the new drug has an effect.\"\n",
        "\n",
        "3. Common Mistakes to Avoid\n",
        "❌ \"P = 0.04 means there’s a 4% chance H₀ is true.\"\n",
        "✅ Correct: It means if H₀ were true, there’s a 4% chance of seeing data this extreme.\n",
        "\n",
        "❌ \"P > 0.05 means H₀ is true.\"\n",
        "✅ Correct: It means no strong evidence against H₀, but it doesn’t prove H₀.\n",
        "\n",
        "❌ \"A smaller p-value means a larger effect size.\"\n",
        "✅ Correct: P-value depends on both effect size and sample size. A tiny effect can have a tiny p-value if N is huge. -->\n",
        "QUES 6 - What are Type 1 and Type 2 errors in hypothesis testing?\n",
        "<!-- ANS  6 - 1. Type 1 Error (False Positive)\n",
        "Definition: Rejecting H₀ when it is actually true.\n",
        "\n",
        "Probability: Denoted by α (alpha), the significance level (e.g., α = 0.05).\n",
        "\n",
        "Example:\n",
        "\n",
        "H₀: \"The defendant is innocent.\"\n",
        "\n",
        "Type 1 Error: Convicting an innocent person.\n",
        "\n",
        "In research: Concluding a drug works when it doesn’t.\n",
        "\n",
        "How to Control Type 1 Error\n",
        "Lower α (e.g., from 0.05 to 0.01) → Reduces false positives but increases Type 2 error risk.\n",
        "\n",
        "2. Type 2 Error (False Negative)\n",
        "Definition: Failing to reject H₀ when it is actually false.\n",
        "\n",
        "Probability: Denoted by β (beta).\n",
        "\n",
        "Power of the Test: 1 – β (probability of correctly rejecting H₀ when it’s false).\n",
        "\n",
        "Example:\n",
        "\n",
        "H₀: \"The defendant is innocent.\"\n",
        "\n",
        "Type 2 Error: Acquitting a guilty person.\n",
        "\n",
        "In research: Failing to detect that a drug works when it actually does.\n",
        "\n",
        "How to Reduce Type 2 Error\n",
        "Increase sample size → More data makes it easier to detect true effects.\n",
        "\n",
        "Increase α (e.g., from 0.05 to 0.10) → Makes it easier to reject H₀ (but raises Type 1 error risk). -->\n",
        "QUES 7 -  What is the difference between a one-tailed and a two-tailed test in hypothesis testing?\n",
        "<!-- ANS 7 - Difference Between One-Tailed and Two-Tailed Tests in Hypothesis Testing\n",
        "Hypothesis tests can be either one-tailed (directional) or two-tailed (non-directional), depending on the research question. The key difference lies in how the alternative hypothesis (H₁) is defined and how extreme results are evaluated.\n",
        "\n",
        "1. Two-Tailed Test (Non-Directional)\n",
        "Tests for any difference (either increase or decrease).\n",
        "\n",
        "H₁ uses \"≠\" (not equal to).\n",
        "\n",
        "Critical region split into both tails of the distribution.\n",
        "\n",
        "More conservative (harder to reject H₀).\n",
        "\n",
        "When to Use:\n",
        "When you want to detect any difference but don’t specify direction.\n",
        "\n",
        "Example:\n",
        "\n",
        "H₀: Mean score = 70\n",
        "\n",
        "H₁: Mean score ≠ 70 (could be higher or lower)\n",
        "\n",
        "2. One-Tailed Test (Directional)\n",
        "Tests for a difference in one specific direction (either increase or decrease).\n",
        "\n",
        "H₁ uses \">\" or \"<\" (greater than or less than).\n",
        "\n",
        "Critical region in one tail only.\n",
        "\n",
        "More powerful (easier to reject H₀ if effect is in the expected direction).\n",
        "\n",
        "When to Use:\n",
        "When prior research/theory predicts a specific direction.\n",
        "\n",
        "Example:\n",
        "\n",
        "H₀: Mean score ≤ 70\n",
        "\n",
        "H₁: Mean score > 70 (only interested in increase) -->\n",
        "QUES 8 -  What is the Z-test, and when is it used in hypothesis testing ?\n",
        "<!-- ANS 8 -  A Z-test is a statistical hypothesis test that determines whether there is a significant difference between a sample mean (or proportion) and a population mean (or proportion) when the population parameters (mean and standard deviation) are known. It uses the standard normal distribution (Z-distribution) for calculating probabilities.\n",
        "\n",
        "When is a Z-Test Used?\n",
        "A Z-test is appropriate under the following conditions:\n",
        "\n",
        "Population parameters are known:\n",
        "\n",
        "Population mean (μ) is known.\n",
        "\n",
        "Population standard deviation (σ) is known.\n",
        "\n",
        "Sample size is large (n ≥ 30):\n",
        "\n",
        "Due to the Central Limit Theorem, the sampling distribution of the mean is approximately normal, even if the population isn’t.\n",
        "\n",
        "Data is continuous and normally distributed (for small samples, if n < 30, a T-test is preferred). -->\n",
        " QUES 9 - How do you calculate the Z-score, and what does it represent in hypothesis testing ?\n",
        " <!-- ANS 9 - The Z-score (or standard score) measures how many standard deviations a data point (or sample mean) is from the population mean. It’s a key component of the Z-test in hypothesis testing.\n",
        "\n",
        "1. Z-Score Formula\n",
        "The Z-score is calculated as:\n",
        "\n",
        "For a Single Data Point (Raw Score):\n",
        "Z\n",
        "=\n",
        "X\n",
        "−\n",
        "μ\n",
        "σ\n",
        "Z=\n",
        "σ\n",
        "X−μ\n",
        "​\n",
        "\n",
        "X\n",
        "X = Individual data value\n",
        "\n",
        "μ\n",
        "μ = Population mean\n",
        "\n",
        "σ\n",
        "σ = Population standard deviation\n",
        "\n",
        "For a Sample Mean (Used in Z-Tests):\n",
        "Z\n",
        "=\n",
        "X\n",
        "ˉ\n",
        "−\n",
        "μ\n",
        "σ\n",
        "/\n",
        "n\n",
        "Z=\n",
        "σ/\n",
        "n\n",
        "​\n",
        "\n",
        "X\n",
        "ˉ\n",
        " −μ\n",
        "​\n",
        "\n",
        "X\n",
        "ˉ\n",
        "X\n",
        "ˉ\n",
        "  = Sample mean\n",
        "\n",
        "n\n",
        "n = Sample size\n",
        "\n",
        "σ\n",
        "/\n",
        "n\n",
        "σ/\n",
        "n\n",
        "​\n",
        "  = Standard Error (SE) of the mean\n",
        "\n",
        " -->\n",
        " QUES 10 - What is the T-distribution, and when should it be used instead of the normal distribution ?\n",
        " <!-- ANS 10 - The T-distribution (or Student’s T-distribution) is a probability distribution used in statistics for small sample sizes when the population standard deviation (σ) is unknown. It resembles the normal (Z) distribution but has thicker tails, meaning it accounts for more variability in small samples.\n",
        "\n",
        "Key Properties of the T-Distribution\n",
        "Shape:\n",
        "\n",
        "Bell-shaped and symmetric (like the normal distribution).\n",
        "\n",
        "Heavier tails → Higher chance of extreme values than the normal distribution.\n",
        "\n",
        "Degrees of Freedom (df):\n",
        "\n",
        "Defined as df = n − 1 (where n = sample size).\n",
        "\n",
        "As df increases, the T-distribution approaches the normal distribution (Z-distribution).\n",
        "\n",
        "At df > 30, the T-distribution is nearly identical to the normal distribution.\n",
        "\n",
        "When to Use the T-Distribution Instead of the Normal (Z) Distribution?\n",
        "Use the T-distribution when:\n",
        "\n",
        "Sample size is small (n < 30).\n",
        "\n",
        "Population standard deviation (σ) is unknown (use sample standard deviation s instead).\n",
        "\n",
        "Data is approximately normally distributed (if severely non-normal, consider non-parametric tests).\n",
        "\n",
        "Use the Z-distribution when:\n",
        "\n",
        "σ is known and n ≥ 30 (Central Limit Theorem applies).\n",
        "\n",
        " -->\n",
        " QUES 11 -  What is the difference between a Z-test and a T-test\n",
        " <!-- ANS 11 - The Z-test and T-test are both statistical hypothesis tests used to compare means, but they differ in key assumptions and applications.\n",
        " ✅ Use a Z-Test When:\n",
        "The population standard deviation (σ) is known.\n",
        "\n",
        "The sample size is large (n ≥ 30) (Central Limit Theorem ensures normality).\n",
        "\n",
        "Example:\n",
        "\n",
        "Testing if a batch of light bulbs meets the manufacturer’s claimed lifespan (σ known).\n",
        "\n",
        "✅ Use a T-Test When:\n",
        "The population standard deviation (σ) is unknown (use sample SD, *s*).\n",
        "\n",
        "The sample size is small (n < 30).\n",
        "\n",
        "Example:\n",
        "\n",
        "Comparing exam scores of 20 students to a national average (σ unknown).\n",
        "\n",
        " -->\n",
        " QUES 12 -  What is the T-test, and how is it used in hypothesis testing?\n",
        " <!-- ANS 12 -The T-test is a statistical hypothesis test used to compare means (averages) between groups or against a known value when:\n",
        "\n",
        "The population standard deviation (σ) is unknown (uses sample data).\n",
        "\n",
        "The sample size is small (n < 30).\n",
        "\n",
        "It relies on the T-distribution, which has heavier tails than the normal (Z) distribution to account for uncertainty in small samples.\n",
        "\n",
        "How is the T-Test Used in Hypothesis Testing?\n",
        "Step 1: State Hypotheses\n",
        "Null Hypothesis (H₀): No effect/difference (e.g., μ = μ₀ or μ₁ = μ₂).\n",
        "\n",
        "Alternative Hypothesis (H₁): Effect exists (e.g., μ ≠ μ₀, μ > μ₀, or μ₁ ≠ μ₂).\n",
        "\n",
        "Step 2: Choose Significance Level (α)\n",
        "Common: α = 0.05 (5% risk of Type I error).  -->\n",
        "\n",
        " QUES 13 - @ What is the relationship between Z-test and T-test in hypothesis testing ?\n",
        " <!-- ANS 13 - In hypothesis testing, both the Z-test and T-test are used to determine whether there is a significant difference between sample means or between a sample mean and a population mean. However, they differ in their assumptions and applications. Here’s a breakdown of their relationship:\n",
        "\n",
        "Key Similarities:\n",
        "Purpose: Both tests assess whether sample data provides enough evidence to reject a null hypothesis about population means.\n",
        "\n",
        "Test Statistic: Both compute a standardized score (Z-score or T-score) representing how far the sample mean deviates from the expected value under the null hypothesis.\n",
        "\n",
        "Assumptions:\n",
        "\n",
        "Data should be (approximately) normally distributed (especially for small samples).\n",
        "\n",
        "Observations should be independent. -->\n",
        "\n",
        " QUES 14 - What is a confidence interval, and how is it used to interpret statistical results ?\n",
        " <!-- ANS 14 A confidence interval (CI) is a range of values, derived from sample data, that is likely to contain the true population parameter (e.g., mean, proportion, difference between means) with a specified level of confidence. It provides an estimate of the uncertainty around a sample statistic.\n",
        "\n",
        "Key Components:\n",
        "Point Estimate (e.g., sample mean\n",
        "X\n",
        "ˉ\n",
        "X\n",
        "ˉ\n",
        " ) – The best single guess for the population parameter.\n",
        "\n",
        "Margin of Error (MoE) – A range around the point estimate, calculated as:\n",
        "\n",
        "MoE\n",
        "=\n",
        "Critical Value\n",
        "×\n",
        "Standard Error (SE)\n",
        "MoE=Critical Value×Standard Error (SE)\n",
        "Confidence Level (e.g., 95%, 99%) – The probability that the interval contains the true parameter if the experiment were repeated many times.\n",
        " How to Interpret a Confidence Interval?\n",
        "Correct Interpretation (Frequentist Approach):\n",
        "\n",
        "\"If we were to take many samples and construct a 95% CI for each, about 95% of these intervals would contain the true population parameter.\"\n",
        "\n",
        "It does NOT mean: \"There is a 95% probability that the true parameter lies within this specific interval.\" (The parameter is fixed; the interval is random.)\n",
        "\n",
        "Practical Implications:\n",
        "\n",
        "Wider CI = More uncertainty (due to small\n",
        "n\n",
        "n or high variability).\n",
        "\n",
        "Narrower CI = More precise estimate (due to large\n",
        "n\n",
        "n or low variability).\n",
        "\n",
        "If CI includes a null value (e.g., 0 for mean differences), the result is not statistically significant at the chosen level (e.g.,\n",
        "α\n",
        "=\n",
        "0.05\n",
        "α=0.05 for 95% CI). -->\n",
        "\n",
        " QUES 15 - What is the margin of error, and how does it affect the confidence interval ?\n",
        " <!-- ANS 15 The margin of error (MoE) quantifies the maximum expected difference between the true population parameter (e.g., mean, proportion) and its sample estimate at a given confidence level. It accounts for sampling variability and is a key component of confidence intervals (CIs).\n",
        "\n",
        "Formula:\n",
        "Margin of Error (MoE)\n",
        "=\n",
        "Critical Value\n",
        "×\n",
        "Standard Error (SE)\n",
        "Margin of Error (MoE)=Critical Value×Standard Error (SE)\n",
        "where:\n",
        "\n",
        "Critical Value =\n",
        "Z\n",
        "α\n",
        "/\n",
        "2\n",
        "Z\n",
        "α/2\n",
        "​\n",
        "  (for normal distribution) or\n",
        "t\n",
        "α\n",
        "/\n",
        "2\n",
        "t\n",
        "α/2\n",
        "​\n",
        "  (for t-distribution).\n",
        "\n",
        "Standard Error (SE) = Measures the variability of the sample statistic (e.g.,\n",
        "σ\n",
        "n\n",
        "n\n",
        "​\n",
        "\n",
        "σ\n",
        "​\n",
        "  for means).\n",
        "\n",
        "How MoE Affects the Confidence Interval\n",
        "The MoE directly determines the width of the confidence interval:\n",
        "\n",
        "CI\n",
        "=\n",
        "Point Estimate\n",
        "±\n",
        "Margin of Error\n",
        "CI=Point Estimate±Margin of Error\n",
        "Key Relationships:\n",
        "MoE ↑ → CI Wider (Less precise estimate).\n",
        "\n",
        "MoE ↓ → CI Narrower (More precise estimate). -->\n",
        " QUES 16 -  How is Bayes' Theorem used in statistics, and what is its significance ?\n",
        "  <!-- ANS 16 - Bayes' Theorem provides a way to update the probability of a hypothesis (or event) based on new evidence. It bridges prior beliefs and observed data to produce a posterior probability\n",
        "  \n",
        "  Bayes' Theorem Used in Statistics?\n",
        "Updating Beliefs with Data\n",
        "\n",
        "Start with a prior probability (e.g., \"The chance of rain today is 20%\").\n",
        "\n",
        "Incorporate new data (e.g., \"Dark clouds are forming\").\n",
        "\n",
        "Compute the posterior probability (e.g., \"Now the chance of rain is 65%\").\n",
        "\n",
        "Bayesian Inference\n",
        "\n",
        "Unlike frequentist statistics (which gives point estimates and confidence intervals), Bayesian methods provide a probability distribution for parameters.\n",
        "\n",
        "Example: Estimating the mean of a population, where the posterior distribution quantifies uncertainty.\n",
        "\n",
        "Machine Learning & AI\n",
        "\n",
        "Used in spam filters (updating the probability that an email is spam based on keywords).\n",
        "\n",
        "Bayesian networks model dependencies between variables (e.g., medical diagnosis).\n",
        "\n",
        "A/B Testing\n",
        "\n",
        "Compare two versions by updating beliefs on conversion rates using observed data.\n",
        "\n",
        "# Significance of Bayes' Theorem\n",
        "Incorporates Prior Knowledge\n",
        "\n",
        "Unlike p-values or confidence intervals, Bayes allows integrating expert opinion or historical data.\n",
        "\n",
        "Handles Small Samples Better\n",
        "\n",
        "Bayesian methods can work well even with limited data by leveraging priors.\n",
        "\n",
        "Intuitive Interpretation\n",
        "\n",
        "Provides direct probabilistic statements (e.g., \"There’s a 90% chance the drug works\").\n",
        "\n",
        "Flexibility in Complex Models\n",
        "\n",
        "Used in hierarchical models, reinforcement learning, and real-time decision systems.\n",
        "\n",
        " -->\n",
        " QUES  17 -  What is the Chi-square distribution, and when is it used ?\n",
        " <!-- ANS 17 - The Chi-square (χ²) distribution is a continuous probability distribution that arises in statistics, particularly in hypothesis testing and confidence interval estimation for variance. It is defined as the sum of the squares of independent standard normal variables.\n",
        "\n",
        " the Chi-Square Distribution Used?\n",
        "The χ² distribution is primarily used in three types of statistical tests:\n",
        "\n",
        "1. Chi-Square Goodness-of-Fit Test\n",
        "Purpose: Determine if a sample matches a theoretical distribution (e.g., Is a die fair?).\n",
        "\n",
        "Test Statistic:\n",
        "\n",
        "χ\n",
        "2\n",
        "=\n",
        "∑\n",
        "(\n",
        "O\n",
        "i\n",
        "−\n",
        "E\n",
        "i\n",
        ")\n",
        "2\n",
        "E\n",
        "i\n",
        "χ\n",
        "2\n",
        " =∑\n",
        "E\n",
        "i\n",
        "​\n",
        "\n",
        "(O\n",
        "i\n",
        "​\n",
        " −E\n",
        "i\n",
        "​\n",
        " )\n",
        "2\n",
        "\n",
        "​\n",
        "\n",
        "where\n",
        "O\n",
        "i\n",
        "O\n",
        "i\n",
        "​\n",
        "  = observed frequency,\n",
        "E\n",
        "i\n",
        "E\n",
        "i\n",
        "​\n",
        "  = expected frequency.\n",
        "\n",
        "Example: Testing if a coin is fair (expected heads/tails = 50/50).\n",
        "\n",
        "2. Chi-Square Test of Independence\n",
        "Purpose: Check if two categorical variables are independent (e.g., Is smoking linked to lung cancer?).\n",
        "\n",
        "Test Statistic: Same as above, applied to contingency tables.\n",
        "\n",
        "Example: Analyzing survey data on gender vs. movie preference.\n",
        "\n",
        "3. Chi-Square Test for Variance\n",
        "Purpose: Test if a population variance equals a specific value (e.g., Does a machine produce parts with variance ≤ 1?).\n",
        "\n",
        "Test Statistic:\n",
        "\n",
        "χ\n",
        "2\n",
        "=\n",
        "(\n",
        "n\n",
        "−\n",
        "1\n",
        ")\n",
        "s\n",
        "2\n",
        "σ\n",
        "0\n",
        "2\n",
        "χ\n",
        "2\n",
        " =\n",
        "σ\n",
        "0\n",
        "2\n",
        "​\n",
        "\n",
        "(n−1)s\n",
        "2\n",
        "\n",
        "​\n",
        "\n",
        "where\n",
        "s\n",
        "2\n",
        "s\n",
        "2\n",
        "  = sample variance,\n",
        "σ\n",
        "0\n",
        "2\n",
        "σ\n",
        "0\n",
        "2\n",
        "​\n",
        "  = hypothesized variance. -->\n",
        "\n",
        " QUES 18 -  What is the Chi-square goodness of fit test, and how is it applied ?\n",
        " <!-- ANS 18 - The Chi-Square Goodness-of-Fit Test is a non-parametric statistical test used to determine whether observed categorical data match an expected theoretical distribution.\n",
        " When to Use It?\n",
        "Testing Fairness:\n",
        "\n",
        "e.g., Is a die fair? (Expected frequencies: equal for all 6 faces).\n",
        "\n",
        "Genetic Crosses:\n",
        "\n",
        "e.g., Does the ratio of plant phenotypes match Mendelian genetics (3:1)?\n",
        "\n",
        "Survey Analysis:\n",
        "\n",
        "e.g., Is the distribution of voter preferences consistent with a poll prediction?\n",
        "\n",
        " -->\n",
        " QUES 19 - What is the F-distribution, and when is it used in hypothesis testing*\n",
        " <!-- ANS 19 The F-distribution is a continuous probability distribution that arises in statistical tests comparing variances across groups. It is defined as the ratio of two independent Chi-square (\n",
        "χ\n",
        "2\n",
        "χ\n",
        "2\n",
        " ) distributions, each divided by their degrees of freedom (df).\n",
        " When is the F-Distribution Used in Hypothesis Testing?\n",
        "The F-distribution is primarily used in three statistical tests:\n",
        "\n",
        "1. ANOVA (Analysis of Variance)\n",
        "Purpose: Compare means of three or more groups to determine if at least one is significantly different.\n",
        "\n",
        "Test Statistic:\n",
        "\n",
        "F\n",
        "=\n",
        "Variance between groups\n",
        "Variance within groups\n",
        "F=\n",
        "Variance within groups\n",
        "Variance between groups\n",
        "​\n",
        "\n",
        "Example: Testing if exam scores differ across students taught by three different teaching methods.\n",
        "\n",
        "2. F-Test for Equality of Two Variances\n",
        "Purpose: Compare variances of two independent samples (e.g., to check the assumption of equal variances in t-tests).\n",
        "\n",
        "Test Statistic:\n",
        "\n",
        "F\n",
        "=\n",
        "s\n",
        "1\n",
        "2\n",
        "s\n",
        "2\n",
        "2\n",
        "(where\n",
        "s\n",
        "1\n",
        "2\n",
        ">\n",
        "s\n",
        "2\n",
        "2\n",
        ")\n",
        "F=\n",
        "s\n",
        "2\n",
        "2\n",
        "​\n",
        "\n",
        "s\n",
        "1\n",
        "2\n",
        "​\n",
        "\n",
        "​\n",
        " (where s\n",
        "1\n",
        "2\n",
        "​\n",
        " >s\n",
        "2\n",
        "2\n",
        "​\n",
        " )\n",
        "Example: Determining if two machines produce parts with equal variability.\n",
        "\n",
        "3. Regression Analysis (Overall Model Significance)\n",
        "Purpose: Test if the entire regression model (with multiple predictors) is statistically significant.\n",
        "\n",
        "Test Statistic:\n",
        "\n",
        "F\n",
        "=\n",
        "Explained variance\n",
        "Unexplained variance\n",
        "F=\n",
        "Unexplained variance\n",
        "Explained variance\n",
        "​\n",
        "\n",
        "Example: Checking if a set of predictors (e.g., age, income) significantly explains variation in house prices.\n",
        "\n",
        " -->\n",
        "\n",
        " QUES 20 - What is an ANOVA test, and what are its assumptions ?\n",
        " <!-- ANS 20 - ANOVA is a statistical test used to compare the means of three or more groups to determine if at least one group is significantly different from the others. It generalizes the t-test for multiple groups.\n",
        " Assumptions of ANOVA\n",
        "For valid results, ANOVA requires:\n",
        "\n",
        "Normality:\n",
        "\n",
        "Data in each group should be approximately normally distributed.\n",
        "\n",
        "Checked with Shapiro-Wilk test or Q-Q plots.\n",
        "\n",
        "Robustness: ANOVA is fairly robust to non-normality with large sample sizes.\n",
        "\n",
        "Homogeneity of Variances (Homoscedasticity):\n",
        "\n",
        "All groups should have equal variances.\n",
        "\n",
        "Tested using Levene’s Test or Bartlett’s Test.\n",
        "\n",
        "If violated, use Welch’s ANOVA (a non-parametric alternative).\n",
        "\n",
        "Independence of Observations:\n",
        "\n",
        "Data points must be independent (e.g., no repeated measurements unless using repeated measures ANOVA).\n",
        "\n",
        "Random Sampling:\n",
        "\n",
        "Groups should be randomly selected from the population. -->\n",
        " QUES 21 -What are the different types of ANOVA tests ?\n",
        " <!-- ANS 21 -There are several types of ANOVA (Analysis of Variance) tests, each suited for different experimental designs and data structures. Here's a breakdown of the main types:\n",
        "\n",
        "🔹 1. One-Way ANOVA (Single Factor ANOVA)\n",
        "Purpose: Compare the means of three or more groups based on one independent variable (factor).\n",
        "\n",
        "Example: Comparing test scores from students in three different teaching methods.\n",
        "\n",
        "Assumptions:\n",
        "\n",
        "Independence of observations\n",
        "\n",
        "Normal distribution of the dependent variable\n",
        "\n",
        "Homogeneity of variances\n",
        "\n",
        "🔹 2. Two-Way ANOVA (Factorial ANOVA)\n",
        "Purpose: Compare means based on two independent variables (factors), and test for interaction effects between them.\n",
        "\n",
        "Variants:\n",
        "\n",
        "Without interaction: Tests main effects only.\n",
        "\n",
        "With interaction: Tests main effects and whether the effect of one factor depends on the level of the other.\n",
        "\n",
        "Example: Analyzing test scores based on teaching method (factor 1) and study time (factor 2).\n",
        "\n",
        "🔹 3. Repeated Measures ANOVA\n",
        "Purpose: Used when the same subjects are measured multiple times (e.g., before and after a treatment).\n",
        "\n",
        "Controls for: Within-subject variability.\n",
        "\n",
        "Example: Measuring blood pressure in the same group of patients at three different time points.\n",
        "\n",
        "🔹 4. Mixed-Design ANOVA (Split-Plot ANOVA)\n",
        "Purpose: Combines between-subjects factors (different groups) and within-subjects factors (repeated measures).\n",
        "\n",
        "Example: Studying the effect of a diet program over time across different age groups.\n",
        "\n",
        "🔹 5. MANOVA (Multivariate Analysis of Variance)\n",
        "Purpose: Extension of ANOVA when there are two or more dependent variables.\n",
        "\n",
        "Example: Evaluating a therapy’s effect on both anxiety and depression scores.\n",
        "\n",
        "🔹 6. ANCOVA (Analysis of Covariance)\n",
        "Purpose: Like ANOVA, but includes covariates (continuous variables that you want to control for).\n",
        "\n",
        "Example: Comparing test scores between schools while controlling for students' prior GPA -->\n",
        "\n",
        "QUES 22 -What is the F-test, and how does it relate to hypothesis testing ?\n",
        "<!-- ANS 22 - The F-test is a type of statistical test used to compare variances or assess the overall significance of a model, particularly in the context of ANOVA (Analysis of Variance) or regression analysis. It's based on the F-distribution, which arises when comparing two scaled chi-squared distributions.\n",
        "🧪 F-Test in Hypothesis Testing\n",
        "The F-test is used to test null hypotheses of the form:\n",
        "\n",
        "1. Equal variances (homogeneity of variance)\n",
        "Null Hypothesis (H₀): The population variances are equal.\n",
        "\n",
        "Alternative Hypothesis (H₁): At least one variance differs.\n",
        "\n",
        "Common in comparing variances between two groups.\n",
        "\n",
        "2. Model significance in regression\n",
        "Null Hypothesis (H₀): All regression coefficients are zero (no relationship).\n",
        "\n",
        "Alternative Hypothesis (H₁): At least one coefficient is non-zero.\n",
        "\n",
        "The F-test checks if the overall model explains a significant portion of the variance in the response variable.\n",
        "\n",
        "3. ANOVA (Comparing group means)\n",
        "Null Hypothesis (H₀): All group means are equal.\n",
        "\n",
        "Alternative Hypothesis (H₁): At least one group mean is different.\n",
        "\n",
        "📊 How It Works in Hypothesis Testing\n",
        "Calculate the F-statistic from your data.\n",
        "\n",
        "Determine the critical value from the F-distribution using degrees of freedom.\n",
        "\n",
        "Compare the calculated F-statistic to the critical value (or use a p-value).\n",
        "\n",
        "Make a decision:\n",
        "\n",
        "If\n",
        "𝐹\n",
        ">\n",
        "𝐹\n",
        "critical\n",
        "F>F\n",
        "critical\n",
        "​\n",
        "  or\n",
        "𝑝\n",
        "<\n",
        "𝛼\n",
        "p<α, reject H₀.\n",
        "\n",
        "Otherwise, fail to reject H₀. -->\n"
      ],
      "metadata": {
        "id": "xdLYQmxj6mUn"
      }
    },
    {
      "cell_type": "markdown",
      "source": [],
      "metadata": {
        "id": "W5Hh1sHHGj5_"
      }
    },
    {
      "cell_type": "markdown",
      "source": [
        "# PRACTICAL QUESTIONS"
      ],
      "metadata": {
        "id": "vanTYvooG3iS"
      }
    },
    {
      "cell_type": "markdown",
      "source": [
        "QUES 1 - Write a Python program to perform a Z-test for comparing a sample mean to a known population mean and\n",
        "interpret the results"
      ],
      "metadata": {
        "id": "sBto-nKBHDik"
      }
    },
    {
      "cell_type": "code",
      "source": [
        "import numpy as np\n",
        "from scipy.stats import norm\n",
        "\n",
        "def one_sample_z_test(sample, pop_mean, pop_std, alpha=0.05):\n",
        "    # Sample statistics\n",
        "    sample_mean = np.mean(sample)\n",
        "    sample_size = len(sample)\n",
        "\n",
        "    # Z-statistic formula\n",
        "    z = (sample_mean - pop_mean) / (pop_std / np.sqrt(sample_size))\n",
        "\n",
        "    # Two-tailed p-value\n",
        "    p_value = 2 * (1 - norm.cdf(abs(z)))\n",
        "\n",
        "    # Interpretation\n",
        "    if p_value < alpha:\n",
        "        conclusion = \"Reject the null hypothesis: The sample mean is significantly different from the population mean.\"\n",
        "    else:\n",
        "        conclusion = \"Fail to reject the null hypothesis: No significant difference between sample and population mean.\"\n",
        "\n",
        "    # Output\n",
        "    print(f\"Sample Mean: {sample_mean:.2f}\")\n",
        "    print(f\"Population Mean: {pop_mean}\")\n",
        "    print(f\"Z-statistic: {z:.4f}\")\n",
        "    print(f\"P-value: {p_value:.4f}\")\n",
        "    print(f\"Significance Level (alpha): {alpha}\")\n",
        "    print(f\"Conclusion: {conclusion}\")\n",
        "\n",
        "# Example usage\n",
        "sample_data = [68, 72, 65, 70, 74, 69, 71, 67, 73, 70]\n",
        "population_mean = 70\n",
        "population_std_dev = 3  # known population standard deviation\n",
        "\n",
        "one_sample_z_test(sample_data, population_mean, population_std_dev)\n"
      ],
      "metadata": {
        "colab": {
          "base_uri": "https://localhost:8080/"
        },
        "id": "R2mexQDcM2gM",
        "outputId": "82ee1222-4995-4ec3-f8a5-15a3dfa9d401"
      },
      "execution_count": 1,
      "outputs": [
        {
          "output_type": "stream",
          "name": "stdout",
          "text": [
            "Sample Mean: 69.90\n",
            "Population Mean: 70\n",
            "Z-statistic: -0.1054\n",
            "P-value: 0.9161\n",
            "Significance Level (alpha): 0.05\n",
            "Conclusion: Fail to reject the null hypothesis: No significant difference between sample and population mean.\n"
          ]
        }
      ]
    },
    {
      "cell_type": "markdown",
      "source": [
        "QUES 2 - Simulate random data to perform hypothesis testing and calculate the corresponding P-value using Python ."
      ],
      "metadata": {
        "id": "JzDFqoQ-Wusv"
      }
    },
    {
      "cell_type": "code",
      "source": [
        "import numpy as np\n",
        "from scipy.stats import norm\n",
        "\n",
        "# Set random seed for reproducibility\n",
        "np.random.seed(42)\n",
        "\n",
        "# Parameters\n",
        "pop_mean = 100\n",
        "pop_std = 15\n",
        "sample_size = 50\n",
        "alpha = 0.05\n",
        "\n",
        "# Simulate sample data from a normal distribution centered at 103 (just to see if it’s different)\n",
        "sample = np.random.normal(loc=103, scale=pop_std, size=sample_size)\n",
        "\n",
        "# Calculate sample statistics\n",
        "sample_mean = np.mean(sample)\n",
        "\n",
        "# Z-test\n",
        "z_score = (sample_mean - pop_mean) / (pop_std / np.sqrt(sample_size))\n",
        "p_value = 2 * (1 - norm.cdf(abs(z_score)))\n",
        "\n",
        "# Output results\n",
        "print(f\"Simulated Sample Mean: {sample_mean:.2f}\")\n",
        "print(f\"Z-score: {z_score:.4f}\")\n",
        "print(f\"P-value: {p_value:.4f}\")\n",
        "print(f\"Alpha: {alpha}\")\n",
        "\n",
        "# Interpretation\n",
        "if p_value < alpha:\n",
        "    print(\"🔍 Reject the null hypothesis: The sample mean is significantly different from the population mean.\")\n",
        "else:\n",
        "    print(\"✅ Fail to reject the null hypothesis: No significant difference between sample and population mean.\")\n"
      ],
      "metadata": {
        "colab": {
          "base_uri": "https://localhost:8080/"
        },
        "id": "E4xOsWUhW6kJ",
        "outputId": "4b3d6869-17b2-4c6b-d362-899c59266276"
      },
      "execution_count": 1,
      "outputs": [
        {
          "output_type": "stream",
          "name": "stdout",
          "text": [
            "Simulated Sample Mean: 99.62\n",
            "Z-score: -0.1801\n",
            "P-value: 0.8571\n",
            "Alpha: 0.05\n",
            "✅ Fail to reject the null hypothesis: No significant difference between sample and population mean.\n"
          ]
        }
      ]
    },
    {
      "cell_type": "markdown",
      "source": [
        "QUES 3 - Implement a one-sample Z-test using Python to compare the sample mean with the population mean"
      ],
      "metadata": {
        "id": "h1Z18eRbW-sA"
      }
    },
    {
      "cell_type": "code",
      "source": [
        "import numpy as np\n",
        "from scipy.stats import norm\n",
        "\n",
        "def one_sample_z_test(sample, pop_mean, pop_std, alpha=0.05):\n",
        "    \"\"\"\n",
        "    Perform a one-sample Z-test.\n",
        "\n",
        "    Parameters:\n",
        "        sample (array-like): Sample data\n",
        "        pop_mean (float): Known population mean (μ₀)\n",
        "        pop_std (float): Known population standard deviation (σ)\n",
        "        alpha (float): Significance level (default 0.05)\n",
        "\n",
        "    Returns:\n",
        "        dict: Test results including z-score, p-value, and conclusion\n",
        "    \"\"\"\n",
        "    sample = np.array(sample)\n",
        "    sample_mean = np.mean(sample)\n",
        "    n = len(sample)\n",
        "\n",
        "    # Z-statistic\n",
        "    z_score = (sample_mean - pop_mean) / (pop_std / np.sqrt(n))\n",
        "\n",
        "    # Two-tailed p-value\n",
        "    p_value = 2 * (1 - norm.cdf(abs(z_score)))\n",
        "\n",
        "    # Conclusion\n",
        "    if p_value < alpha:\n",
        "        conclusion = \"Reject the null hypothesis: Sample mean is significantly different from the population mean.\"\n",
        "    else:\n",
        "        conclusion = \"Fail to reject the null hypothesis: No significant difference between sample and population mean.\"\n",
        "\n",
        "    # Print Results\n",
        "    print(f\"Sample Mean: {sample_mean:.2f}\")\n",
        "    print(f\"Z-score: {z_score:.4f}\")\n",
        "    print(f\"P-value: {p_value:.4f}\")\n",
        "    print(f\"Alpha: {alpha}\")\n",
        "    print(f\"Conclusion: {conclusion}\")\n",
        "\n",
        "    return {\n",
        "        'sample_mean': sample_mean,\n",
        "        'z_score': z_score,\n",
        "        'p_value': p_value,\n",
        "        'alpha': alpha,\n",
        "        'conclusion': conclusion\n",
        "    }\n",
        "\n",
        "# --- Example Usage ---\n",
        "\n",
        "# Simulate sample data\n",
        "np.random.seed(0)\n",
        "sample_data = np.random.normal(loc=105, scale=10, size=40)  # mean ≈ 105, std dev = 10\n",
        "population_mean = 100\n",
        "population_std = 10  # known\n",
        "\n",
        "# Run Z-test\n",
        "one_sample_z_test(sample_data, population_mean, population_std)\n"
      ],
      "metadata": {
        "colab": {
          "base_uri": "https://localhost:8080/"
        },
        "id": "HjFODVUJXJTQ",
        "outputId": "496a750b-431c-478f-a81d-62654bcf143b"
      },
      "execution_count": 2,
      "outputs": [
        {
          "output_type": "stream",
          "name": "stdout",
          "text": [
            "Sample Mean: 108.13\n",
            "Z-score: 5.1390\n",
            "P-value: 0.0000\n",
            "Alpha: 0.05\n",
            "Conclusion: Reject the null hypothesis: Sample mean is significantly different from the population mean.\n"
          ]
        },
        {
          "output_type": "execute_result",
          "data": {
            "text/plain": [
              "{'sample_mean': np.float64(108.12542473216175),\n",
              " 'z_score': np.float64(5.138969821978947),\n",
              " 'p_value': np.float64(2.7624875520437797e-07),\n",
              " 'alpha': 0.05,\n",
              " 'conclusion': 'Reject the null hypothesis: Sample mean is significantly different from the population mean.'}"
            ]
          },
          "metadata": {},
          "execution_count": 2
        }
      ]
    },
    {
      "cell_type": "markdown",
      "source": [
        "QUES 4 - Perform a two-tailed Z-test using Python and visualize the decision region on a plot"
      ],
      "metadata": {
        "id": "urlNAi-NXNaD"
      }
    },
    {
      "cell_type": "code",
      "source": [
        "import numpy as np\n",
        "import matplotlib.pyplot as plt\n",
        "from scipy.stats import norm\n",
        "\n",
        "def two_tailed_z_test(sample, pop_mean, pop_std, alpha=0.05):\n",
        "    sample = np.array(sample)\n",
        "    sample_mean = np.mean(sample)\n",
        "    n = len(sample)\n",
        "\n",
        "    # Z-statistic calculation\n",
        "    z_score = (sample_mean - pop_mean) / (pop_std / np.sqrt(n))\n",
        "\n",
        "    # Two-tailed p-value\n",
        "    p_value = 2 * (1 - norm.cdf(abs(z_score)))\n",
        "\n",
        "    # Critical z-values\n",
        "    z_critical = norm.ppf(1 - alpha / 2)\n",
        "\n",
        "    # Print results\n",
        "    print(f\"Sample Mean: {sample_mean:.2f}\")\n",
        "    print(f\"Z-score: {z_score:.4f}\")\n",
        "    print(f\"P-value: {p_value:.4f}\")\n",
        "    print(f\"Z-critical (±): {z_critical:.4f}\")\n",
        "    if abs(z_score) > z_critical:\n",
        "        print(\"🔍 Reject the null hypothesis: Sample mean is significantly different from the population mean.\")\n",
        "    else:\n",
        "        print(\"✅ Fail to reject the null hypothesis.\")\n",
        "\n",
        "    # --- Visualization ---\n",
        "    x = np.linspace(-4, 4, 1000)\n",
        "    y = norm.pdf(x, 0, 1)\n",
        "\n",
        "    plt.figure(figsize=(10, 5))\n",
        "    plt.plot(x, y, label='Standard Normal Distribution')\n",
        "    plt.fill_between(x, y, where=(x < -z_critical) | (x > z_critical), color='red', alpha=0.3, label='Rejection Region')\n",
        "    plt.axvline(z_score, color='blue', linestyle='--', label=f'Z = {z_score:.2f}')\n",
        "    plt.axvline(-z_critical, color='black', linestyle='--', label=f'±Z critical = ±{z_critical:.2f}')\n",
        "    plt.axvline(z_critical, color='black', linestyle='--')\n",
        "\n",
        "    plt.title(\"Two-Tailed Z-Test Decision Regions\")\n",
        "    plt.xlabel(\"Z\")\n",
        "    plt.ylabel(\"Probability Density\")\n",
        "    plt.legend()\n",
        "    plt.grid(True)\n",
        "    plt.show()\n",
        "\n",
        "# --- Example usage ---\n",
        "np.random.seed(42)\n",
        "sample_data = np.random.normal(loc=102, scale=15, size=40)\n",
        "population_mean = 100\n",
        "population_std = 15\n",
        "alpha = 0.05\n",
        "\n",
        "two_tailed_z_test(sample_data, population_mean, population_std, alpha)\n"
      ],
      "metadata": {
        "colab": {
          "base_uri": "https://localhost:8080/",
          "height": 574
        },
        "id": "Ioey3yB7XXAZ",
        "outputId": "4fc1aa6d-0fa9-4c2a-8620-a864db71f504"
      },
      "execution_count": 3,
      "outputs": [
        {
          "output_type": "stream",
          "name": "stdout",
          "text": [
            "Sample Mean: 98.72\n",
            "Z-score: -0.5395\n",
            "P-value: 0.5895\n",
            "Z-critical (±): 1.9600\n",
            "✅ Fail to reject the null hypothesis.\n"
          ]
        },
        {
          "output_type": "display_data",
          "data": {
            "text/plain": [
              "<Figure size 1000x500 with 1 Axes>"
            ],
            "image/png": "[encoded data removed]"
          },
          "metadata": {}
        }
      ]
    },
    {
      "cell_type": "markdown",
      "source": [
        "QUES 5 - Create a Python function that calculates and visualizes Type 1 and Type 2 errors during hypothesis testing"
      ],
      "metadata": {
        "id": "JwJHkuWXXbdO"
      }
    },
    {
      "cell_type": "code",
      "source": [
        "import numpy as np\n",
        "import matplotlib.pyplot as plt\n",
        "from scipy.stats import norm\n",
        "\n",
        "def visualize_type1_type2_errors(mu0, mu1, sigma, n, alpha=0.05, tail='right'):\n",
        "    # Calculate standard error\n",
        "    se = sigma / np.sqrt(n)\n",
        "\n",
        "    # Determine critical value for the given alpha\n",
        "    if tail == 'right':\n",
        "        z_crit = norm.ppf(1 - alpha)\n",
        "        x_crit = mu0 + z_crit * se\n",
        "        beta = norm.cdf((x_crit - mu1) / se)\n",
        "    elif tail == 'left':\n",
        "        z_crit = norm.ppf(alpha)\n",
        "        x_crit = mu0 + z_crit * se\n",
        "        beta = 1 - norm.cdf((x_crit - mu1) / se)\n",
        "    elif tail == 'two':\n",
        "        z_crit_right = norm.ppf(1 - alpha / 2)\n",
        "        z_crit_left = norm.ppf(alpha / 2)\n",
        "        x_crit_right = mu0 + z_crit_right * se\n",
        "        x_crit_left = mu0 + z_crit_left * se\n",
        "        beta = norm.cdf((x_crit_right - mu1) / se) - norm.cdf((x_crit_left - mu1) / se)\n",
        "    else:\n",
        "        raise ValueError(\"tail must be 'left', 'right', or 'two'\")\n",
        "\n",
        "    # Plot settings\n",
        "    x = np.linspace(mu0 - 4*sigma, mu1 + 4*sigma, 1000)\n",
        "    y0 = norm.pdf(x, mu0, se)\n",
        "    y1 = norm.pdf(x, mu1, se)\n",
        "\n",
        "    plt.figure(figsize=(10, 6))\n",
        "    plt.plot(x, y0, label='Null Hypothesis (H₀)', color='blue')\n",
        "    plt.plot(x, y1, label='Alternative Hypothesis (H₁)', color='green')\n",
        "\n",
        "    if tail == 'right':\n",
        "        plt.fill_between(x, y0, where=(x >= x_crit), color='red', alpha=0.4, label='Type I Error (α)')\n",
        "        plt.fill_between(x, y1, where=(x < x_crit), color='orange', alpha=0.4, label='Type II Error (β)')\n",
        "        plt.axvline(x_crit, color='black', linestyle='--', label=f'Critical Value = {x_crit:.2f}')\n",
        "    elif tail == 'left':\n",
        "        plt.fill_between(x, y0, where=(x <= x_crit), color='red', alpha=0.4, label='Type I Error (α)')\n",
        "        plt.fill_between(x, y1, where=(x > x_crit), color='orange', alpha=0.4, label='Type II Error (β)')\n",
        "        plt.axvline(x_crit, color='black', linestyle='--', label=f'Critical Value = {x_crit:.2f}')\n",
        "    else:  # two-tailed\n",
        "        plt.fill_between(x, y0, where=(x <= x_crit_left) | (x >= x_crit_right), color='red', alpha=0.4, label='Type I Error (α)')\n",
        "        plt.fill_between(x, y1, where=(x > x_crit_left) & (x < x_crit_right), color='orange', alpha=0.4, label='Type II Error (β)')\n",
        "        plt.axvline(x_crit_left, color='black', linestyle='--', label=f'Critical Values = {x_crit_left:.2f}, {x_crit_right:.2f}')\n",
        "        plt.axvline(x_crit_right, color='black', linestyle='--')\n",
        "\n",
        "    plt.title(\"Type I and Type II Errors in Hypothesis Testing\")\n",
        "    plt.xlabel(\"Sample Mean\")\n",
        "    plt.ylabel(\"Probability Density\")\n",
        "    plt.legend()\n",
        "    plt.grid(True)\n",
        "    plt.show()\n",
        "\n",
        "    # Output summary\n",
        "    print(f\"Standard Error: {se:.4f}\")\n",
        "    print(f\"Type I Error (α): {alpha}\")\n",
        "    print(f\"Type II Error (β): {beta:.4f}\")\n",
        "    print(f\"Power of the Test (1 - β): {1 - beta:.4f}\")\n",
        "\n",
        "# --- Example usage ---\n",
        "visualize_type1_type2_errors(\n",
        "    mu0=100,     # H₀ mean\n",
        "    mu1=105,     # H₁ true mean\n",
        "    sigma=15,    # Known population standard deviation\n",
        "    n=50,        # Sample size\n",
        "    alpha=0.05,  # Significance level\n",
        "    tail='right' # Can be 'left', 'right', or 'two'\n",
        ")\n"
      ],
      "metadata": {
        "colab": {
          "base_uri": "https://localhost:8080/",
          "height": 633
        },
        "id": "6pfojo2BX1F7",
        "outputId": "1d6eaeae-eba4-4b08-9cc9-75e88acd98f8"
      },
      "execution_count": 5,
      "outputs": [
        {
          "output_type": "display_data",
          "data": {
            "text/plain": [
              "<Figure size 1000x600 with 1 Axes>"
            ],
            "image/png": "[encoded data removed]"
          },
          "metadata": {}
        },
        {
          "output_type": "stream",
          "name": "stdout",
          "text": [
            "Standard Error: 2.1213\n",
            "Type I Error (α): 0.05\n",
            "Type II Error (β): 0.2382\n",
            "Power of the Test (1 - β): 0.7618\n"
          ]
        }
      ]
    },
    {
      "cell_type": "markdown",
      "source": [
        "QUES 6 - Write a Python program to perform an independent T-test and interpret the results"
      ],
      "metadata": {
        "id": "O5E5xSoxXn7O"
      }
    },
    {
      "cell_type": "code",
      "source": [
        "import numpy as np\n",
        "from scipy.stats import ttest_ind\n",
        "\n",
        "def perform_independent_ttest(group1, group2, alpha=0.05, equal_var=True):\n",
        "    \"\"\"\n",
        "    Perform an independent (two-sample) t-test and interpret the result.\n",
        "\n",
        "    Parameters:\n",
        "        group1, group2: array-like\n",
        "            The two independent samples.\n",
        "        alpha: float\n",
        "            Significance level (default = 0.05).\n",
        "        equal_var: bool\n",
        "            Assume equal population variances? (default = True)\n",
        "\n",
        "    Returns:\n",
        "        Dictionary with test result and interpretation.\n",
        "    \"\"\"\n",
        "    group1 = np.array(group1)\n",
        "    group2 = np.array(group2)\n",
        "\n",
        "    # Run the t-test\n",
        "    t_stat, p_value = ttest_ind(group1, group2, equal_var=equal_var)\n",
        "\n",
        "    # Output results\n",
        "    print(\"=== Independent Two-Sample T-Test ===\")\n",
        "    print(f\"Group 1 Mean: {np.mean(group1):.2f}\")\n",
        "    print(f\"Group 2 Mean: {np.mean(group2):.2f}\")\n",
        "    print(f\"T-statistic: {t_stat:.4f}\")\n",
        "    print(f\"P-value: {p_value:.4f}\")\n",
        "    print(f\"Alpha: {alpha}\")\n",
        "\n",
        "    # Interpretation\n",
        "    if p_value < alpha:\n",
        "        conclusion = \"🔍 Reject the null hypothesis: There is a significant difference between the group means.\"\n",
        "    else:\n",
        "        conclusion = \"✅ Fail to reject the null hypothesis: No significant difference between the group means.\"\n",
        "\n",
        "    print(f\"Conclusion: {conclusion}\")\n",
        "\n",
        "    return {\n",
        "        't_stat': t_stat,\n",
        "        'p_value': p_value,\n",
        "        'conclusion': conclusion\n",
        "    }\n",
        "\n",
        "# --- Example usage ---\n",
        "\n",
        "# Simulate two independent samples\n",
        "np.random.seed(42)\n",
        "group1 = np.random.normal(loc=100, scale=10, size=30)\n",
        "group2 = np.random.normal(loc=105, scale=10, size=30)\n",
        "\n",
        "perform_independent_ttest(group1, group2, alpha=0.05, equal_var=True)\n"
      ],
      "metadata": {
        "colab": {
          "base_uri": "https://localhost:8080/"
        },
        "id": "zxRXlHhLX9n7",
        "outputId": "a71f2623-f6ea-4a34-81cd-889b6f34b7b8"
      },
      "execution_count": 6,
      "outputs": [
        {
          "output_type": "stream",
          "name": "stdout",
          "text": [
            "=== Independent Two-Sample T-Test ===\n",
            "Group 1 Mean: 98.12\n",
            "Group 2 Mean: 103.79\n",
            "T-statistic: -2.3981\n",
            "P-value: 0.0197\n",
            "Alpha: 0.05\n",
            "Conclusion: 🔍 Reject the null hypothesis: There is a significant difference between the group means.\n"
          ]
        },
        {
          "output_type": "execute_result",
          "data": {
            "text/plain": [
              "{'t_stat': np.float64(-2.398115152010254),\n",
              " 'p_value': np.float64(0.019717941865757607),\n",
              " 'conclusion': '🔍 Reject the null hypothesis: There is a significant difference between the group means.'}"
            ]
          },
          "metadata": {},
          "execution_count": 6
        }
      ]
    },
    {
      "cell_type": "markdown",
      "source": [
        "QUES 7  -  Perform a paired sample T-test using Python and visualize the comparison results"
      ],
      "metadata": {
        "id": "TyGCvkZKYE3t"
      }
    },
    {
      "cell_type": "code",
      "source": [
        "import numpy as np\n",
        "import matplotlib.pyplot as plt\n",
        "from scipy.stats import ttest_rel\n",
        "\n",
        "def paired_ttest_with_visualization(before, after, alpha=0.05):\n",
        "    before = np.array(before)\n",
        "    after = np.array(after)\n",
        "\n",
        "    # Paired t-test\n",
        "    t_stat, p_value = ttest_rel(before, after)\n",
        "\n",
        "    # Means\n",
        "    mean_before = np.mean(before)\n",
        "    mean_after = np.mean(after)\n",
        "\n",
        "    # Print results\n",
        "    print(\"=== Paired Sample T-Test ===\")\n",
        "    print(f\"Mean (Before): {mean_before:.2f}\")\n",
        "    print(f\"Mean (After): {mean_after:.2f}\")\n",
        "    print(f\"T-statistic: {t_stat:.4f}\")\n",
        "    print(f\"P-value: {p_value:.4f}\")\n",
        "    print(f\"Alpha: {alpha}\")\n",
        "\n",
        "    if p_value < alpha:\n",
        "        conclusion = \"🔍 Reject the null hypothesis: There is a significant difference between paired samples.\"\n",
        "    else:\n",
        "        conclusion = \"✅ Fail to reject the null hypothesis: No significant difference between paired samples.\"\n",
        "\n",
        "    print(f\"Conclusion: {conclusion}\")\n",
        "\n",
        "    # --- Visualization ---\n",
        "    plt.figure(figsize=(12, 5))\n",
        "\n",
        "    # Bar plot for group means\n",
        "    plt.subplot(1, 2, 1)\n",
        "    plt.bar(['Before', 'After'], [mean_before, mean_after], color=['blue', 'green'], alpha=0.7)\n",
        "    plt.title('Mean Comparison')\n",
        "    plt.ylabel('Mean Value')\n",
        "\n",
        "    # Line plot of individual differences\n",
        "    plt.subplot(1, 2, 2)\n",
        "    for i in range(len(before)):\n",
        "        plt.plot(['Before', 'After'], [before[i], after[i]], marker='o', color='gray', alpha=0.6)\n",
        "    plt.title('Individual Changes (Paired Observations)')\n",
        "    plt.ylabel('Values')\n",
        "\n",
        "    plt.tight_layout()\n",
        "    plt.show()\n",
        "\n",
        "    return {\n",
        "        't_stat': t_stat,\n",
        "        'p_value': p_value,\n",
        "        'conclusion': conclusion\n",
        "    }\n",
        "\n",
        "# --- Example usage ---\n",
        "np.random.seed(0)\n",
        "before_scores = np.random.normal(loc=75, scale=5, size=20)\n",
        "after_scores = before_scores + np.random.normal(loc=2, scale=2, size=20)  # simulate improvement\n",
        "\n",
        "paired_ttest_with_visualization(before_scores, after_scores)\n"
      ],
      "metadata": {
        "colab": {
          "base_uri": "https://localhost:8080/",
          "height": 681
        },
        "id": "M4qw_6svYUCN",
        "outputId": "85d2d26e-df3a-42e2-f2f5-0ab079cb9179"
      },
      "execution_count": 7,
      "outputs": [
        {
          "output_type": "stream",
          "name": "stdout",
          "text": [
            "=== Paired Sample T-Test ===\n",
            "Mean (Before): 77.85\n",
            "Mean (After): 79.96\n",
            "T-statistic: -3.8742\n",
            "P-value: 0.0010\n",
            "Alpha: 0.05\n",
            "Conclusion: 🔍 Reject the null hypothesis: There is a significant difference between paired samples.\n"
          ]
        },
        {
          "output_type": "display_data",
          "data": {
            "text/plain": [
              "<Figure size 1200x500 with 2 Axes>"
            ],
            "image/png": "[encoded data removed]"
          },
          "metadata": {}
        },
        {
          "output_type": "execute_result",
          "data": {
            "text/plain": [
              "{'t_stat': np.float64(-3.8742456915781514),\n",
              " 'p_value': np.float64(0.00102113999540624),\n",
              " 'conclusion': '🔍 Reject the null hypothesis: There is a significant difference between paired samples.'}"
            ]
          },
          "metadata": {},
          "execution_count": 7
        }
      ]
    },
    {
      "cell_type": "markdown",
      "source": [
        "QUES 8 -  Simulate data and perform both Z-test and T-test, then compare the results using Python"
      ],
      "metadata": {
        "id": "MHJQrlt3YZmT"
      }
    },
    {
      "cell_type": "code",
      "source": [
        "import numpy as np\n",
        "from scipy.stats import norm, t\n",
        "\n",
        "# Simulate sample data\n",
        "np.random.seed(42)\n",
        "pop_mean = 100        # Hypothesized population mean\n",
        "pop_std = 15          # Known population std dev\n",
        "sample_size = 30\n",
        "\n",
        "# Simulate sample with true mean shifted a bit (e.g., 104)\n",
        "sample = np.random.normal(loc=104, scale=pop_std, size=sample_size)\n",
        "\n",
        "# Sample stats\n",
        "sample_mean = np.mean(sample)\n",
        "sample_std = np.std(sample, ddof=1)\n",
        "\n",
        "print(f\"Sample Mean: {sample_mean:.2f}\")\n",
        "print(f\"Sample Std Dev: {sample_std:.2f}\")\n",
        "\n",
        "# --- One-sample Z-test ---\n",
        "z_stat = (sample_mean - pop_mean) / (pop_std / np.sqrt(sample_size))\n",
        "p_value_z = 2 * (1 - norm.cdf(abs(z_stat)))\n",
        "\n",
        "print(\"\\nOne-sample Z-test results:\")\n",
        "print(f\"Z-statistic = {z_stat:.4f}\")\n",
        "print(f\"P-value = {p_value_z:.4f}\")\n",
        "\n",
        "# --- One-sample T-test ---\n",
        "t_stat = (sample_mean - pop_mean) / (sample_std / np.sqrt(sample_size))\n",
        "df = sample_size - 1\n",
        "p_value_t = 2 * (1 - t.cdf(abs(t_stat), df))\n",
        "\n",
        "print(\"\\nOne-sample T-test results:\")\n",
        "print(f\"T-statistic = {t_stat:.4f}\")\n",
        "print(f\"Degrees of Freedom = {df}\")\n",
        "print(f\"P-value = {p_value_t:.4f}\")\n",
        "\n",
        "# --- Compare conclusions ---\n",
        "alpha = 0.05\n",
        "print(\"\\nComparison at alpha =\", alpha)\n",
        "print(\"Z-test:\", \"Reject H0\" if p_value_z < alpha else \"Fail to reject H0\")\n",
        "print(\"T-test:\", \"Reject H0\" if p_value_t < alpha else \"Fail to reject H0\")\n"
      ],
      "metadata": {
        "colab": {
          "base_uri": "https://localhost:8080/"
        },
        "id": "TNc95BGZYjIC",
        "outputId": "6601ccd6-af17-4dba-c28f-511872ef8d5d"
      },
      "execution_count": 8,
      "outputs": [
        {
          "output_type": "stream",
          "name": "stdout",
          "text": [
            "Sample Mean: 101.18\n",
            "Sample Std Dev: 13.50\n",
            "\n",
            "One-sample Z-test results:\n",
            "Z-statistic = 0.4301\n",
            "P-value = 0.6671\n",
            "\n",
            "One-sample T-test results:\n",
            "T-statistic = 0.4779\n",
            "Degrees of Freedom = 29\n",
            "P-value = 0.6363\n",
            "\n",
            "Comparison at alpha = 0.05\n",
            "Z-test: Fail to reject H0\n",
            "T-test: Fail to reject H0\n"
          ]
        }
      ]
    },
    {
      "cell_type": "markdown",
      "source": [
        "QUES 9 Write a Python function to calculate the confidence interval for a sample mean and explain its significance."
      ],
      "metadata": {
        "id": "9rD98AhuYnf5"
      }
    },
    {
      "cell_type": "code",
      "source": [
        "import numpy as np\n",
        "from scipy.stats import norm, t\n",
        "\n",
        "def confidence_interval_mean(sample, confidence_level=0.95):\n",
        "    \"\"\"\n",
        "    Calculates the confidence interval for a sample mean.\n",
        "\n",
        "    Parameters:\n",
        "        sample (array-like): Sample data.\n",
        "        confidence_level (float): The desired confidence level (e.g., 0.95 for 95%).\n",
        "\n",
        "    Returns:\n",
        "        tuple: A tuple containing the lower and upper bounds of the confidence interval.\n",
        "        str: An explanation of the significance of the confidence interval.\n",
        "    \"\"\"\n",
        "    sample = np.array(sample)\n",
        "    n = len(sample)\n",
        "    mean = np.mean(sample)\n",
        "    std_dev = np.std(sample, ddof=1) # Use sample standard deviation (n-1 degrees of freedom)\n",
        "    se = std_dev / np.sqrt(n) # Standard Error\n",
        "\n",
        "    # Determine critical value based on sample size and whether population std is known\n",
        "    # Using t-distribution is more robust for smaller samples and unknown population std\n",
        "    # For large samples, t-distribution approaches the normal distribution\n",
        "    alpha = 1 - confidence_level\n",
        "    degrees_freedom = n - 1\n",
        "\n",
        "    # Use t-distribution for critical value (more common in practice with sample std)\n",
        "    critical_value = t.ppf(1 - alpha/2, degrees_freedom)\n",
        "\n",
        "    # Calculate margin of error\n",
        "    margin_of_error = critical_value * se\n",
        "\n",
        "    # Calculate confidence interval bounds\n",
        "    lower_bound = mean - margin_of_error\n",
        "    upper_bound = mean + margin_of_error\n",
        "\n",
        "    explanation = (\n",
        "        f\"Significance of the {int(confidence_level*100)}% Confidence Interval:\\n\"\n",
        "        \"A confidence interval provides a range of values within which the true population mean\\n\"\n",
        "        \"is likely to lie, based on the sample data. It quantifies the uncertainty around\\n\"\n",
        "        \"the sample mean as an estimate of the population mean.\\n\\n\"\n",
        "        f\"For this specific sample mean of {mean:.2f}, the {int(confidence_level*100)}% confidence interval is ({lower_bound:.2f}, {upper_bound:.2f}).\\n\"\n",
        "        f\"This means that if we were to take many random samples from the same population\\n\"\n",
        "        f\"and calculate a {int(confidence_level*100)}% confidence interval for each sample, approximately {int(confidence_level*100)}% of those intervals\\n\"\n",
        "        \"would contain the true population mean.\\n\\n\"\n",
        "        \"A wider interval indicates greater uncertainty (e.g., due to smaller sample size\\n\"\n",
        "        \"or higher variability), while a narrower interval suggests a more precise estimate.\\n\"\n",
        "        \"If the confidence interval includes a specific value (e.g., a hypothesized population mean),\\n\"\n",
        "        \"it suggests that the sample data is consistent with that value at the given confidence level.\"\n",
        "    )\n",
        "\n",
        "    return (lower_bound, upper_bound), explanation\n",
        "\n",
        "# Example Usage:\n",
        "sample_scores = [85, 90, 78, 92, 88, 76, 83, 95, 89, 91, 80, 87, 84, 93, 86]\n",
        "interval, significance_explanation = confidence_interval_mean(sample_scores, confidence_level=0.95)\n",
        "\n",
        "print(f\"Sample Mean: {np.mean(sample_scores):.2f}\")\n",
        "print(f\"95% Confidence Interval for the Mean: {interval}\")\n",
        "print(\"\\n\" + significance_explanation)\n",
        "\n",
        "# Another example with a different confidence level\n",
        "sample_weights = [155, 160, 150, 165, 158, 170, 162, 153, 168, 161]\n",
        "interval_99, significance_explanation_99 = confidence_interval_mean(sample_weights, confidence_level=0.99)\n",
        "\n",
        "print(f\"\\nSample Mean: {np.mean(sample_weights):.2f}\")\n",
        "print(f\"99% Confidence Interval for the Mean: {interval_99}\")\n",
        "print(\"\\n\" + significance_explanation_99)"
      ],
      "metadata": {
        "colab": {
          "base_uri": "https://localhost:8080/"
        },
        "id": "AalH80KMdDUr",
        "outputId": "822cb25d-ed8a-4989-b3d2-bea50190e139"
      },
      "execution_count": 32,
      "outputs": [
        {
          "output_type": "stream",
          "name": "stdout",
          "text": [
            "Sample Mean: 86.47\n",
            "95% Confidence Interval for the Mean: (np.float64(83.39140376915039), np.float64(89.54192956418295))\n",
            "\n",
            "Significance of the 95% Confidence Interval:\n",
            "A confidence interval provides a range of values within which the true population mean\n",
            "is likely to lie, based on the sample data. It quantifies the uncertainty around\n",
            "the sample mean as an estimate of the population mean.\n",
            "\n",
            "For this specific sample mean of 86.47, the 95% confidence interval is (83.39, 89.54).\n",
            "This means that if we were to take many random samples from the same population\n",
            "and calculate a 95% confidence interval for each sample, approximately 95% of those intervals\n",
            "would contain the true population mean.\n",
            "\n",
            "A wider interval indicates greater uncertainty (e.g., due to smaller sample size\n",
            "or higher variability), while a narrower interval suggests a more precise estimate.\n",
            "If the confidence interval includes a specific value (e.g., a hypothesized population mean),\n",
            "it suggests that the sample data is consistent with that value at the given confidence level.\n",
            "\n",
            "Sample Mean: 160.20\n",
            "99% Confidence Interval for the Mean: (np.float64(153.59644222389497), np.float64(166.803557776105))\n",
            "\n",
            "Significance of the 99% Confidence Interval:\n",
            "A confidence interval provides a range of values within which the true population mean\n",
            "is likely to lie, based on the sample data. It quantifies the uncertainty around\n",
            "the sample mean as an estimate of the population mean.\n",
            "\n",
            "For this specific sample mean of 160.20, the 99% confidence interval is (153.60, 166.80).\n",
            "This means that if we were to take many random samples from the same population\n",
            "and calculate a 99% confidence interval for each sample, approximately 99% of those intervals\n",
            "would contain the true population mean.\n",
            "\n",
            "A wider interval indicates greater uncertainty (e.g., due to smaller sample size\n",
            "or higher variability), while a narrower interval suggests a more precise estimate.\n",
            "If the confidence interval includes a specific value (e.g., a hypothesized population mean),\n",
            "it suggests that the sample data is consistent with that value at the given confidence level.\n"
          ]
        }
      ]
    },
    {
      "cell_type": "markdown",
      "source": [
        "QUES 10 -Write a Python program to calculate the margin of error for a given confidence level using sample data"
      ],
      "metadata": {
        "id": "x3szyrBRZBeL"
      }
    },
    {
      "cell_type": "code",
      "source": [
        "import numpy as np\n",
        "from scipy.stats import norm, t\n",
        "\n",
        "def margin_of_error(sample, confidence=0.95, pop_std=None):\n",
        "    \"\"\"\n",
        "    Calculate the margin of error for the sample mean at given confidence level.\n",
        "\n",
        "    Parameters:\n",
        "        sample (array-like): Sample data\n",
        "        confidence (float): Confidence level (default 0.95)\n",
        "        pop_std (float or None): Population standard deviation if known.\n",
        "\n",
        "    Returns:\n",
        "        float: Margin of error\n",
        "    \"\"\"\n",
        "    sample = np.array(sample)\n",
        "    n = len(sample)\n",
        "\n",
        "    if pop_std is not None:\n",
        "        # Use Z-distribution\n",
        "        se = pop_std / np.sqrt(n)\n",
        "        z_score = norm.ppf(1 - (1 - confidence) / 2)\n",
        "        moe = z_score * se\n",
        "    else:\n",
        "        # Use T-distribution\n",
        "        sample_std = np.std(sample, ddof=1)\n",
        "        se = sample_std / np.sqrt(n)\n",
        "        t_score = t.ppf(1 - (1 - confidence) / 2, df=n-1)\n",
        "        moe = t_score * se\n",
        "\n",
        "    print(f\"Margin of Error at {confidence*100:.1f}% confidence: {moe:.4f}\")\n",
        "    return moe\n",
        "\n",
        "# Example usage\n",
        "np.random.seed(0)\n",
        "sample_data = np.random.normal(loc=100, scale=15, size=50)\n",
        "\n",
        "margin_of_error(sample_data, confidence=0.95)\n",
        "margin_of_error(sample_data, confidence=0.95, pop_std=15)\n"
      ],
      "metadata": {
        "colab": {
          "base_uri": "https://localhost:8080/"
        },
        "id": "5rXKXQWyZZtv",
        "outputId": "b4bb44b9-49b9-4f98-a06e-1183fe67e122"
      },
      "execution_count": 12,
      "outputs": [
        {
          "output_type": "stream",
          "name": "stdout",
          "text": [
            "Margin of Error at 95.0% confidence: 4.8468\n",
            "Margin of Error at 95.0% confidence: 4.1577\n"
          ]
        },
        {
          "output_type": "execute_result",
          "data": {
            "text/plain": [
              "np.float64(4.157711473049033)"
            ]
          },
          "metadata": {},
          "execution_count": 12
        }
      ]
    },
    {
      "cell_type": "markdown",
      "source": [
        "QUES 11 -  Implement a Bayesian inference method using Bayes' Theorem in Python and explain the process"
      ],
      "metadata": {
        "id": "-5GMJ0ttZeWz"
      }
    },
    {
      "cell_type": "code",
      "source": [
        "def bayes_theorem(prior_H, likelihood_D_given_H, prior_notH, likelihood_D_given_notH):\n",
        "    \"\"\"\n",
        "    Calculate posterior probability P(H|D) using Bayes' Theorem.\n",
        "\n",
        "    Parameters:\n",
        "        prior_H: Prior probability of hypothesis H\n",
        "        likelihood_D_given_H: Likelihood of data given H (P(D|H))\n",
        "        prior_notH: Prior probability of not H\n",
        "        likelihood_D_given_notH: Likelihood of data given not H (P(D|¬H))\n",
        "\n",
        "    Returns:\n",
        "        posterior_H: Posterior probability P(H|D)\n",
        "    \"\"\"\n",
        "    # Calculate evidence P(D)\n",
        "    evidence = likelihood_D_given_H * prior_H + likelihood_D_given_notH * prior_notH\n",
        "\n",
        "    # Calculate posterior P(H|D)\n",
        "    posterior_H = (likelihood_D_given_H * prior_H) / evidence\n",
        "\n",
        "    return posterior_H\n",
        "\n",
        "# Given data:\n",
        "prior_A = 0.5            # Equal chance of picking Coin A or B\n",
        "prior_B = 0.5\n",
        "\n",
        "# Likelihoods: P(2 heads in 3 tosses | Coin A or Coin B)\n",
        "from math import comb\n",
        "\n",
        "def binomial_likelihood(successes, trials, p):\n",
        "    return comb(trials, successes) * (p ** successes) * ((1-p) ** (trials - successes))\n",
        "\n",
        "likelihood_A = binomial_likelihood(successes=2, trials=3, p=0.7)\n",
        "likelihood_B = binomial_likelihood(successes=2, trials=3, p=0.4)\n",
        "\n",
        "# Compute posterior probability of having chosen Coin A\n",
        "posterior_A = bayes_theorem(prior_A, likelihood_A, prior_B, likelihood_B)\n",
        "\n",
        "print(f\"Posterior probability of Coin A given 2 heads in 3 tosses: {posterior_A:.4f}\")\n",
        "print(f\"Posterior probability of Coin B given data: {1 - posterior_A:.4f}\")\n"
      ],
      "metadata": {
        "colab": {
          "base_uri": "https://localhost:8080/"
        },
        "id": "TGvzTnXIZlY0",
        "outputId": "80c39238-888c-4a14-83ed-60a107abf545"
      },
      "execution_count": 13,
      "outputs": [
        {
          "output_type": "stream",
          "name": "stdout",
          "text": [
            "Posterior probability of Coin A given 2 heads in 3 tosses: 0.6049\n",
            "Posterior probability of Coin B given data: 0.3951\n"
          ]
        }
      ]
    },
    {
      "cell_type": "markdown",
      "source": [
        "QUES 12 - Perform a Chi-square test for independence between two categorical variables in Python"
      ],
      "metadata": {
        "id": "ZaDoKYMjZsMT"
      }
    },
    {
      "cell_type": "code",
      "source": [
        "import numpy as np\n",
        "from scipy.stats import chi2_contingency\n",
        "\n",
        "# Example data: Contingency table of two categorical variables\n",
        "# Rows = Category A (e.g., Gender: Male, Female)\n",
        "# Columns = Category B (e.g., Preference: Yes, No)\n",
        "data = np.array([[30, 10],\n",
        "                 [20, 40]])\n",
        "\n",
        "# Perform Chi-square test\n",
        "chi2_stat, p_val, dof, expected = chi2_contingency(data)\n",
        "\n",
        "print(\"Chi-square Statistic:\", chi2_stat)\n",
        "print(\"Degrees of Freedom:\", dof)\n",
        "print(\"P-value:\", p_val)\n",
        "print(\"Expected Frequencies:\\n\", expected)\n",
        "\n",
        "# Interpretation\n",
        "alpha = 0.05\n",
        "if p_val < alpha:\n",
        "    print(\"Reject null hypothesis — variables are dependent (associated).\")\n",
        "else:\n",
        "    print(\"Fail to reject null hypothesis — variables are independent.\")\n"
      ],
      "metadata": {
        "colab": {
          "base_uri": "https://localhost:8080/"
        },
        "id": "n_L31BuXZzJX",
        "outputId": "4196e9ad-7799-41af-fc60-53b2324e41a5"
      },
      "execution_count": 14,
      "outputs": [
        {
          "output_type": "stream",
          "name": "stdout",
          "text": [
            "Chi-square Statistic: 15.041666666666666\n",
            "Degrees of Freedom: 1\n",
            "P-value: 0.00010516355403363098\n",
            "Expected Frequencies:\n",
            " [[20. 20.]\n",
            " [30. 30.]]\n",
            "Reject null hypothesis — variables are dependent (associated).\n"
          ]
        }
      ]
    },
    {
      "cell_type": "markdown",
      "source": [
        "QUES 13 - Write a Python program to calculate the expected frequencies for a Chi-square test based on observed\n",
        "data"
      ],
      "metadata": {
        "id": "3ozz1ofsZ3U1"
      }
    },
    {
      "cell_type": "code",
      "source": [
        "import numpy as np\n",
        "\n",
        "def calculate_expected_frequencies(observed):\n",
        "    \"\"\"\n",
        "    Calculate expected frequencies for a Chi-square test given observed data.\n",
        "\n",
        "    Parameters:\n",
        "        observed (2D array-like): Contingency table of observed frequencies\n",
        "\n",
        "    Returns:\n",
        "        np.ndarray: Expected frequencies table\n",
        "    \"\"\"\n",
        "    observed = np.array(observed)\n",
        "    row_totals = observed.sum(axis=1, keepdims=True)\n",
        "    col_totals = observed.sum(axis=0, keepdims=True)\n",
        "    grand_total = observed.sum()\n",
        "\n",
        "    expected = (row_totals @ col_totals) / grand_total\n",
        "    return expected\n",
        "\n",
        "# Example observed data\n",
        "observed_data = [[30, 10],\n",
        "                 [20, 40]]\n",
        "\n",
        "expected_freq = calculate_expected_frequencies(observed_data)\n",
        "\n",
        "print(\"Observed Frequencies:\\n\", np.array(observed_data))\n",
        "print(\"\\nExpected Frequencies:\\n\", expected_freq)\n"
      ],
      "metadata": {
        "colab": {
          "base_uri": "https://localhost:8080/"
        },
        "id": "eNiMhU4hZ-wu",
        "outputId": "1f8ceaa0-0fb1-45c7-d0ca-7d1b12d51fdd"
      },
      "execution_count": 15,
      "outputs": [
        {
          "output_type": "stream",
          "name": "stdout",
          "text": [
            "Observed Frequencies:\n",
            " [[30 10]\n",
            " [20 40]]\n",
            "\n",
            "Expected Frequencies:\n",
            " [[20. 20.]\n",
            " [30. 30.]]\n"
          ]
        }
      ]
    },
    {
      "cell_type": "markdown",
      "source": [
        "QUES 14 -  Perform a goodness-of-fit test using Python to compare the observed data to an expected distributionD"
      ],
      "metadata": {
        "id": "E23fr8bXaGZu"
      }
    },
    {
      "cell_type": "code",
      "source": [
        "import numpy as np\n",
        "from scipy.stats import chisquare\n",
        "\n",
        "# Observed frequencies (example)\n",
        "observed = np.array([50, 30, 20])\n",
        "\n",
        "# Expected frequencies (same length as observed)\n",
        "# For example, expected distribution proportions are [0.4, 0.4, 0.2] scaled to total observed count\n",
        "expected_probs = np.array([0.4, 0.4, 0.2])\n",
        "expected = expected_probs * observed.sum()\n",
        "\n",
        "# Perform Chi-square goodness-of-fit test\n",
        "chi2_stat, p_value = chisquare(f_obs=observed, f_exp=expected)\n",
        "\n",
        "print(\"Chi-square Statistic:\", chi2_stat)\n",
        "print(\"P-value:\", p_value)\n",
        "\n",
        "# Interpretation\n",
        "alpha = 0.05\n",
        "if p_value < alpha:\n",
        "    print(\"Reject null hypothesis: Observed data does NOT fit expected distribution.\")\n",
        "else:\n",
        "    print(\"Fail to reject null hypothesis: Observed data fits expected distribution.\")\n"
      ],
      "metadata": {
        "colab": {
          "base_uri": "https://localhost:8080/"
        },
        "id": "q5hDbanAaEgD",
        "outputId": "62549d16-3b66-4bcf-8c4d-b605ea5346db"
      },
      "execution_count": 16,
      "outputs": [
        {
          "output_type": "stream",
          "name": "stdout",
          "text": [
            "Chi-square Statistic: 5.0\n",
            "P-value: 0.0820849986238988\n",
            "Fail to reject null hypothesis: Observed data fits expected distribution.\n"
          ]
        }
      ]
    },
    {
      "cell_type": "markdown",
      "source": [
        "QUES 15 - Create a Python script to simulate and visualize the Chi-square distribution and discuss its characteristics"
      ],
      "metadata": {
        "id": "ik2EhTmIaRV7"
      }
    },
    {
      "cell_type": "code",
      "source": [
        "import numpy as np\n",
        "import matplotlib.pyplot as plt\n",
        "from scipy.stats import chi2\n",
        "\n",
        "def plot_chi_square_distributions(dfs, sample_size=10000):\n",
        "    \"\"\"\n",
        "    Simulate and plot Chi-square distributions for different degrees of freedom.\n",
        "\n",
        "    Parameters:\n",
        "        dfs (list): List of degrees of freedom to simulate\n",
        "        sample_size (int): Number of samples to generate for each df\n",
        "    \"\"\"\n",
        "    x = np.linspace(0, 30, 1000)  # Range for plotting PDFs\n",
        "\n",
        "    plt.figure(figsize=(10, 6))\n",
        "\n",
        "    for df in dfs:\n",
        "        # PDF of Chi-square for df degrees of freedom\n",
        "        pdf = chi2.pdf(x, df)\n",
        "        plt.plot(x, pdf, label=f'df = {df}')\n",
        "\n",
        "    plt.title('Chi-square Distributions for Various Degrees of Freedom')\n",
        "    plt.xlabel('x')\n",
        "    plt.ylabel('Probability Density Function (PDF)')\n",
        "    plt.legend()\n",
        "    plt.grid(True)\n",
        "    plt.show()\n",
        "\n",
        "# Example usage: plot for df = 1, 2, 5, 10\n",
        "plot_chi_square_distributions([1, 2, 5, 10])\n"
      ],
      "metadata": {
        "colab": {
          "base_uri": "https://localhost:8080/",
          "height": 564
        },
        "id": "TgTjsTEYaYPq",
        "outputId": "1a5458a4-c8a5-4182-f7f4-c5d0b38b83fb"
      },
      "execution_count": 17,
      "outputs": [
        {
          "output_type": "display_data",
          "data": {
            "text/plain": [
              "<Figure size 1000x600 with 1 Axes>"
            ],
            "image/png": "[encoded data removed]"
          },
          "metadata": {}
        }
      ]
    },
    {
      "cell_type": "markdown",
      "source": [
        "QUES 16 -  Implement an F-test using Python to compare the variances of two random samples"
      ],
      "metadata": {
        "id": "efVZ5mR-acGV"
      }
    },
    {
      "cell_type": "code",
      "source": [
        "import numpy as np\n",
        "from scipy.stats import f\n",
        "\n",
        "def f_test(sample1, sample2, alpha=0.05):\n",
        "    \"\"\"\n",
        "    Perform an F-test to compare variances of two samples.\n",
        "\n",
        "    Parameters:\n",
        "        sample1, sample2 (array-like): The two independent samples\n",
        "        alpha (float): Significance level (default 0.05)\n",
        "\n",
        "    Returns:\n",
        "        dict: Test statistic, degrees of freedom, p-value, and conclusion\n",
        "    \"\"\"\n",
        "    var1 = np.var(sample1, ddof=1)\n",
        "    var2 = np.var(sample2, ddof=1)\n",
        "    n1 = len(sample1)\n",
        "    n2 = len(sample2)\n",
        "\n",
        "    # Calculate F-statistic (larger variance in numerator)\n",
        "    if var1 > var2:\n",
        "        F = var1 / var2\n",
        "        dfn, dfd = n1 - 1, n2 - 1\n",
        "    else:\n",
        "        F = var2 / var1\n",
        "        dfn, dfd = n2 - 1, n1 - 1\n",
        "\n",
        "    # Two-tailed test: p-value calculation\n",
        "    p_value = 2 * min(f.cdf(F, dfn, dfd), 1 - f.cdf(F, dfn, dfd))\n",
        "\n",
        "    conclusion = \"Fail to reject null hypothesis: variances are equal.\"\n",
        "    if p_value < alpha:\n",
        "        conclusion = \"Reject null hypothesis: variances are significantly different.\"\n",
        "\n",
        "    return {\n",
        "        'F_statistic': F,\n",
        "        'dfn': dfn,\n",
        "        'dfd': dfd,\n",
        "        'p_value': p_value,\n",
        "        'conclusion': conclusion\n",
        "    }\n",
        "\n",
        "# Example usage\n",
        "np.random.seed(0)\n",
        "sample_a = np.random.normal(loc=50, scale=5, size=30)\n",
        "sample_b = np.random.normal(loc=50, scale=8, size=30)\n",
        "\n",
        "result = f_test(sample_a, sample_b)\n",
        "print(\"F-test Results:\")\n",
        "for k, v in result.items():\n",
        "    if isinstance(v, float):\n",
        "        print(f\"{k}: {v:.4f}\")\n",
        "    else:\n",
        "        print(f\"{k}: {v}\")\n"
      ],
      "metadata": {
        "colab": {
          "base_uri": "https://localhost:8080/"
        },
        "id": "O6vA_hlWajRX",
        "outputId": "06b8e122-9026-4d66-b06c-23d784cd0016"
      },
      "execution_count": 18,
      "outputs": [
        {
          "output_type": "stream",
          "name": "stdout",
          "text": [
            "F-test Results:\n",
            "F_statistic: 1.7673\n",
            "dfn: 29\n",
            "dfd: 29\n",
            "p_value: 0.1310\n",
            "conclusion: Fail to reject null hypothesis: variances are equal.\n"
          ]
        }
      ]
    },
    {
      "cell_type": "markdown",
      "source": [
        "QUES 17 - Write a Python program to perform an ANOVA test to compare means between multiple groups and\n",
        "interpret the results"
      ],
      "metadata": {
        "id": "QaUHBXHhamp1"
      }
    },
    {
      "cell_type": "code",
      "source": [
        "import numpy as np\n",
        "from scipy.stats import f_oneway\n",
        "\n",
        "def perform_anova(*groups, alpha=0.05):\n",
        "    \"\"\"\n",
        "    Perform one-way ANOVA test on multiple groups.\n",
        "\n",
        "    Parameters:\n",
        "        groups: Variable number of array-like groups\n",
        "        alpha (float): Significance level (default 0.05)\n",
        "\n",
        "    Returns:\n",
        "        None (prints results)\n",
        "    \"\"\"\n",
        "    # Perform ANOVA\n",
        "    f_stat, p_value = f_oneway(*groups)\n",
        "\n",
        "    print(f\"ANOVA F-statistic: {f_stat:.4f}\")\n",
        "    print(f\"ANOVA p-value: {p_value:.4f}\")\n",
        "\n",
        "    if p_value < alpha:\n",
        "        print(\"Reject null hypothesis: At least one group mean is different.\")\n",
        "    else:\n",
        "        print(\"Fail to reject null hypothesis: No evidence that group means differ.\")\n",
        "\n",
        "# Example data\n",
        "np.random.seed(42)\n",
        "group1 = np.random.normal(50, 5, size=30)\n",
        "group2 = np.random.normal(52, 5, size=30)\n",
        "group3 = np.random.normal(49, 5, size=30)\n",
        "\n",
        "# Run ANOVA\n",
        "perform_anova(group1, group2, group3)\n"
      ],
      "metadata": {
        "colab": {
          "base_uri": "https://localhost:8080/"
        },
        "id": "P2ElJ2JvatgQ",
        "outputId": "c1398955-b612-4d29-ccac-82b7853daf34"
      },
      "execution_count": 19,
      "outputs": [
        {
          "output_type": "stream",
          "name": "stdout",
          "text": [
            "ANOVA F-statistic: 2.4531\n",
            "ANOVA p-value: 0.0920\n",
            "Fail to reject null hypothesis: No evidence that group means differ.\n"
          ]
        }
      ]
    },
    {
      "cell_type": "markdown",
      "source": [
        "QUES 18 - Perform a one-way ANOVA test using Python to compare the means of different groups and plot the results"
      ],
      "metadata": {
        "id": "B10VkeAAaxx4"
      }
    },
    {
      "cell_type": "code",
      "source": [
        "import numpy as np\n",
        "import matplotlib.pyplot as plt\n",
        "from scipy.stats import f_oneway\n",
        "\n",
        "# Generate example data\n",
        "np.random.seed(42)\n",
        "group1 = np.random.normal(50, 5, size=30)\n",
        "group2 = np.random.normal(52, 5, size=30)\n",
        "group3 = np.random.normal(49, 5, size=30)\n",
        "\n",
        "# Perform one-way ANOVA\n",
        "f_stat, p_value = f_oneway(group1, group2, group3)\n",
        "\n",
        "print(f\"ANOVA F-statistic: {f_stat:.4f}\")\n",
        "print(f\"ANOVA p-value: {p_value:.4f}\")\n",
        "\n",
        "if p_value < 0.05:\n",
        "    print(\"Reject null hypothesis: At least one group mean is different.\")\n",
        "else:\n",
        "    print(\"Fail to reject null hypothesis: No evidence that group means differ.\")\n",
        "\n",
        "# Visualization with boxplots\n",
        "data = [group1, group2, group3]\n",
        "plt.figure(figsize=(8, 6))\n",
        "plt.boxplot(data, labels=['Group 1', 'Group 2', 'Group 3'])\n",
        "plt.title('Boxplot of Groups')\n",
        "plt.ylabel('Values')\n",
        "plt.grid(axis='y')\n",
        "plt.show()\n"
      ],
      "metadata": {
        "colab": {
          "base_uri": "https://localhost:8080/",
          "height": 652
        },
        "id": "pdtE_5zBa4F5",
        "outputId": "0043e5c7-6e28-4959-ea7b-2835987b8adf"
      },
      "execution_count": 20,
      "outputs": [
        {
          "output_type": "stream",
          "name": "stdout",
          "text": [
            "ANOVA F-statistic: 2.4531\n",
            "ANOVA p-value: 0.0920\n",
            "Fail to reject null hypothesis: No evidence that group means differ.\n"
          ]
        },
        {
          "output_type": "stream",
          "name": "stderr",
          "text": [
            "<ipython-input-20-156cf5407543>:25: MatplotlibDeprecationWarning: The 'labels' parameter of boxplot() has been renamed 'tick_labels' since Matplotlib 3.9; support for the old name will be dropped in 3.11.\n",
            "  plt.boxplot(data, labels=['Group 1', 'Group 2', 'Group 3'])\n"
          ]
        },
        {
          "output_type": "display_data",
          "data": {
            "text/plain": [
              "<Figure size 800x600 with 1 Axes>"
            ],
            "image/png": "[encoded data removed]"
          },
          "metadata": {}
        }
      ]
    },
    {
      "cell_type": "markdown",
      "source": [
        "QUES 19 - Write a Python function to check the assumptions (normality, independence, and equal variance) for ANOVA"
      ],
      "metadata": {
        "id": "MKPVYjeRa-bZ"
      }
    },
    {
      "cell_type": "code",
      "source": [
        "import numpy as np\n",
        "from scipy.stats import shapiro, levene\n",
        "import statsmodels.api as sm\n",
        "import statsmodels.stats.api as sms\n",
        "\n",
        "def check_anova_assumptions(*groups, alpha=0.05, check_independence=False):\n",
        "    \"\"\"\n",
        "    Check ANOVA assumptions: normality, equal variances, and optionally independence.\n",
        "\n",
        "    Parameters:\n",
        "        groups: variable number of array-like groups\n",
        "        alpha: significance level (default 0.05)\n",
        "        check_independence: bool, if True, performs Durbin-Watson test on residuals\n",
        "\n",
        "    Returns:\n",
        "        dict with assumption test results\n",
        "    \"\"\"\n",
        "    results = {}\n",
        "\n",
        "    # 1. Normality test (Shapiro-Wilk) for each group\n",
        "    normality = []\n",
        "    for i, group in enumerate(groups, 1):\n",
        "        stat, p = shapiro(group)\n",
        "        normality.append((stat, p))\n",
        "        print(f\"Group {i} normality test: W={stat:.4f}, p={p:.4f} -> {'Normal' if p > alpha else 'Not normal'}\")\n",
        "\n",
        "    results['normality'] = normality\n",
        "\n",
        "    # 2. Equal variances (Levene's test)\n",
        "    stat, p = levene(*groups)\n",
        "    print(f\"Levene's test for equal variances: W={stat:.4f}, p={p:.4f} -> {'Equal variances' if p > alpha else 'Unequal variances'}\")\n",
        "    results['equal_variance'] = (stat, p)\n",
        "\n",
        "    # 3. Independence (optional, requires residuals)\n",
        "    if check_independence:\n",
        "        # Combine data and fit OLS to get residuals\n",
        "        data = np.concatenate(groups)\n",
        "        groups_labels = np.concatenate([[i]*len(g) for i, g in enumerate(groups)])\n",
        "        model = sm.OLS(data, sm.add_constant(groups_labels)).fit()\n",
        "        resid = model.resid\n",
        "\n",
        "        # Durbin-Watson test (detects autocorrelation in residuals)\n",
        "        dw_stat = sms.durbin_watson(resid)\n",
        "        print(f\"Durbin-Watson test statistic: {dw_stat:.4f}\")\n",
        "        results['independence'] = dw_stat\n",
        "\n",
        "    else:\n",
        "        print(\"Independence assumption check skipped (usually depends on study design).\")\n",
        "\n",
        "    return results\n",
        "\n",
        "# Example usage\n",
        "import numpy as np\n",
        "\n",
        "np.random.seed(0)\n",
        "g1 = np.random.normal(50, 5, 30)\n",
        "g2 = np.random.normal(52, 5, 30)\n",
        "g3 = np.random.normal(49, 5, 30)\n",
        "\n",
        "check_anova_assumptions(g1, g2, g3, check_independence=False)\n"
      ],
      "metadata": {
        "colab": {
          "base_uri": "https://localhost:8080/"
        },
        "id": "Xl1MD-8nbFEK",
        "outputId": "cff135c9-08ee-4171-8f59-3430dd03b77a"
      },
      "execution_count": 21,
      "outputs": [
        {
          "output_type": "stream",
          "name": "stdout",
          "text": [
            "Group 1 normality test: W=0.9695, p=0.5254 -> Normal\n",
            "Group 2 normality test: W=0.9835, p=0.9085 -> Normal\n",
            "Group 3 normality test: W=0.9763, p=0.7204 -> Normal\n",
            "Levene's test for equal variances: W=0.3936, p=0.6758 -> Equal variances\n",
            "Independence assumption check skipped (usually depends on study design).\n"
          ]
        },
        {
          "output_type": "execute_result",
          "data": {
            "text/plain": [
              "{'normality': [(np.float64(0.9694928401706204),\n",
              "   np.float64(0.5253924062862338)),\n",
              "  (np.float64(0.9834760783538428), np.float64(0.9084903338997274)),\n",
              "  (np.float64(0.976280005580193), np.float64(0.7203959759109387))],\n",
              " 'equal_variance': (np.float64(0.3936354813691464),\n",
              "  np.float64(0.675795251210237))}"
            ]
          },
          "metadata": {},
          "execution_count": 21
        }
      ]
    },
    {
      "cell_type": "markdown",
      "source": [
        "QUES 20 -  Perform a two-way ANOVA test using Python to study the interaction between two factors and visualize the\n",
        "results"
      ],
      "metadata": {
        "id": "H6xi2gsNbI7A"
      }
    },
    {
      "source": [
        "import pandas as pd\n",
        "import numpy as np\n",
        "import matplotlib.pyplot as plt\n",
        "import statsmodels.api as sm\n",
        "from statsmodels.formula.api import ols\n",
        "from statsmodels.graphics.factorplots import interaction_plot\n",
        "\n",
        "# Simulate example data\n",
        "np.random.seed(0)\n",
        "factor_A = np.repeat(['Low', 'High'], 30)\n",
        "factor_B = np.tile(np.repeat(['X', 'Y'], 15), 2)\n",
        "\n",
        "# Create some data with interaction effect\n",
        "# The interaction term should calculate the logical AND first, then multiply by 4\n",
        "data = 5 + (factor_A == 'High') * 3 + (factor_B == 'Y') * 2 + \\\n",
        "       ((factor_A == 'High') & (factor_B == 'Y')) * 4 + np.random.normal(0, 1.5, 60)\n",
        "\n",
        "df = pd.DataFrame({\n",
        "    'FactorA': factor_A,\n",
        "    'FactorB': factor_B,\n",
        "    'Value': data\n",
        "})\n",
        "\n",
        "# Fit two-way ANOVA model with interaction\n",
        "# Ensure categories are treated as categorical in the formula\n",
        "model = ols('Value ~ C(FactorA) * C(FactorB)', data=df).fit()\n",
        "anova_table = sm.stats.anova_lm(model, typ=2)  # Type II ANOVA table\n",
        "\n",
        "print(anova_table)\n",
        "\n",
        "# Plot interaction plot\n",
        "# Ensure correct factors and values are passed\n",
        "plt.figure(figsize=(8, 6))\n",
        "interaction_plot(df['FactorA'], df['FactorB'], df['Value'],\n",
        "                 colors=['red', 'blue'], markers=['o', 's'], ms=8)\n",
        "plt.title('Interaction Plot of FactorA and FactorB')\n",
        "plt.ylabel('Mean Value')\n",
        "plt.grid(True) # Added grid for better readability\n",
        "plt.show()"
      ],
      "cell_type": "code",
      "metadata": {
        "colab": {
          "base_uri": "https://localhost:8080/",
          "height": 576
        },
        "id": "n8paCce0bc7x",
        "outputId": "3603b130-87a4-40d7-d058-4f72435c6e05"
      },
      "execution_count": 24,
      "outputs": [
        {
          "output_type": "stream",
          "name": "stdout",
          "text": [
            "                           sum_sq    df          F        PR(>F)\n",
            "C(FactorA)             228.317639   1.0  98.877203  5.608184e-14\n",
            "C(FactorB)             189.171783   1.0  81.924362  1.490588e-12\n",
            "C(FactorA):C(FactorB)   78.230399   1.0  33.879130  2.971413e-07\n",
            "Residual               129.309764  56.0        NaN           NaN\n"
          ]
        },
        {
          "output_type": "display_data",
          "data": {
            "text/plain": [
              "<Figure size 800x600 with 0 Axes>"
            ]
          },
          "metadata": {}
        },
        {
          "output_type": "display_data",
          "data": {
            "text/plain": [
              "<Figure size 640x480 with 1 Axes>"
            ],
            "image/png": "[encoded data removed]"
          },
          "metadata": {}
        }
      ]
    },
    {
      "cell_type": "markdown",
      "source": [
        "QUES 21 -Write a Python program to visualize the F-distribution and discuss its use in hypothesis testing"
      ],
      "metadata": {
        "id": "Y7MjzEtTbgyk"
      }
    },
    {
      "cell_type": "code",
      "source": [
        "import numpy as np\n",
        "import matplotlib.pyplot as plt\n",
        "from scipy.stats import f\n",
        "\n",
        "def plot_f_distribution(dfn, dfd, alpha=0.05):\n",
        "    \"\"\"\n",
        "    Plot the F-distribution with given numerator and denominator degrees of freedom.\n",
        "    Highlight the critical region for the given significance level alpha.\n",
        "\n",
        "    Parameters:\n",
        "        dfn (int): degrees of freedom numerator\n",
        "        dfd (int): degrees of freedom denominator\n",
        "        alpha (float): significance level\n",
        "    \"\"\"\n",
        "    x = np.linspace(0, 5, 500)\n",
        "    y = f.pdf(x, dfn, dfd)\n",
        "\n",
        "    # Critical value for upper tail\n",
        "    crit_value = f.ppf(1 - alpha, dfn, dfd)\n",
        "\n",
        "    plt.figure(figsize=(8, 5))\n",
        "    plt.plot(x, y, 'b-', lw=2, label=f'F-distribution (dfn={dfn}, dfd={dfd})')\n",
        "\n",
        "    # Shade critical region\n",
        "    x_fill = np.linspace(crit_value, 5, 200)\n",
        "    plt.fill_between(x_fill, 0, f.pdf(x_fill, dfn, dfd), color='red', alpha=0.5,\n",
        "                     label=f'Critical region (alpha={alpha})')\n",
        "\n",
        "    plt.axvline(crit_value, color='red', linestyle='--', label=f'Critical value = {crit_value:.2f}')\n",
        "    plt.title('F-distribution with Critical Region')\n",
        "    plt.xlabel('F value')\n",
        "    plt.ylabel('Probability Density')\n",
        "    plt.legend()\n",
        "    plt.grid(True)\n",
        "    plt.show()\n",
        "\n",
        "    print(f\"Degrees of freedom numerator: {dfn}\")\n",
        "    print(f\"Degrees of freedom denominator: {dfd}\")\n",
        "    print(f\"Significance level (alpha): {alpha}\")\n",
        "    print(f\"Critical F value for upper tail: {crit_value:.4f}\")\n",
        "\n",
        "    print(\"\\nUse in Hypothesis Testing:\")\n",
        "    print(\"- The F-distribution is used to compare variances of two populations or to test overall significance in ANOVA.\")\n",
        "    print(\"- The test statistic follows an F-distribution under the null hypothesis.\")\n",
        "    print(\"- If the calculated F-statistic is greater than the critical value, reject the null hypothesis.\")\n",
        "\n",
        "# Example usage:\n",
        "plot_f_distribution(dfn=5, dfd=10, alpha=0.05)\n"
      ],
      "metadata": {
        "colab": {
          "base_uri": "https://localhost:8080/",
          "height": 643
        },
        "id": "B3yeBMHjbmr7",
        "outputId": "89b4fd5e-a669-45f6-9e2e-c3a92c7a7c63"
      },
      "execution_count": 25,
      "outputs": [
        {
          "output_type": "display_data",
          "data": {
            "text/plain": [
              "<Figure size 800x500 with 1 Axes>"
            ],
            "image/png": "[encoded data removed]"
          },
          "metadata": {}
        },
        {
          "output_type": "stream",
          "name": "stdout",
          "text": [
            "Degrees of freedom numerator: 5\n",
            "Degrees of freedom denominator: 10\n",
            "Significance level (alpha): 0.05\n",
            "Critical F value for upper tail: 3.3258\n",
            "\n",
            "Use in Hypothesis Testing:\n",
            "- The F-distribution is used to compare variances of two populations or to test overall significance in ANOVA.\n",
            "- The test statistic follows an F-distribution under the null hypothesis.\n",
            "- If the calculated F-statistic is greater than the critical value, reject the null hypothesis.\n"
          ]
        }
      ]
    },
    {
      "cell_type": "markdown",
      "source": [
        "QUES 22 - Perform a one-way ANOVA test in Python and visualize the results with boxplots to compare group means"
      ],
      "metadata": {
        "id": "JSgH16Qtbqps"
      }
    },
    {
      "cell_type": "code",
      "source": [
        "import numpy as np\n",
        "import matplotlib.pyplot as plt\n",
        "from scipy.stats import f_oneway\n",
        "\n",
        "# Sample data: three groups with different means\n",
        "np.random.seed(1)\n",
        "group1 = np.random.normal(50, 5, 30)\n",
        "group2 = np.random.normal(55, 5, 30)\n",
        "group3 = np.random.normal(52, 5, 30)\n",
        "\n",
        "# Perform one-way ANOVA\n",
        "f_stat, p_value = f_oneway(group1, group2, group3)\n",
        "\n",
        "print(f\"ANOVA F-statistic: {f_stat:.4f}\")\n",
        "print(f\"ANOVA p-value: {p_value:.4f}\")\n",
        "\n",
        "if p_value < 0.05:\n",
        "    print(\"Reject null hypothesis: At least one group mean is different.\")\n",
        "else:\n",
        "    print(\"Fail to reject null hypothesis: No evidence that group means differ.\")\n",
        "\n",
        "# Visualize with boxplots\n",
        "data = [group1, group2, group3]\n",
        "plt.figure(figsize=(8, 6))\n",
        "plt.boxplot(data, labels=['Group 1', 'Group 2', 'Group 3'])\n",
        "plt.title('Group Comparison Using One-way ANOVA')\n",
        "plt.ylabel('Values')\n",
        "plt.grid(axis='y')\n",
        "plt.show()\n"
      ],
      "metadata": {
        "colab": {
          "base_uri": "https://localhost:8080/",
          "height": 652
        },
        "id": "pWhafrsLbvpc",
        "outputId": "f41d8352-af6b-45a6-932c-0db739862570"
      },
      "execution_count": 26,
      "outputs": [
        {
          "output_type": "stream",
          "name": "stdout",
          "text": [
            "ANOVA F-statistic: 11.3589\n",
            "ANOVA p-value: 0.0000\n",
            "Reject null hypothesis: At least one group mean is different.\n"
          ]
        },
        {
          "output_type": "stream",
          "name": "stderr",
          "text": [
            "<ipython-input-26-35ae715eca2c>:25: MatplotlibDeprecationWarning: The 'labels' parameter of boxplot() has been renamed 'tick_labels' since Matplotlib 3.9; support for the old name will be dropped in 3.11.\n",
            "  plt.boxplot(data, labels=['Group 1', 'Group 2', 'Group 3'])\n"
          ]
        },
        {
          "output_type": "display_data",
          "data": {
            "text/plain": [
              "<Figure size 800x600 with 1 Axes>"
            ],
            "image/png": "[encoded data removed]"
          },
          "metadata": {}
        }
      ]
    },
    {
      "cell_type": "markdown",
      "source": [
        "QUES 23 -  Simulate random data from a normal distribution, then perform hypothesis testing to evaluate the means"
      ],
      "metadata": {
        "id": "x5amByx6b27N"
      }
    },
    {
      "cell_type": "code",
      "source": [
        "import numpy as np\n",
        "from scipy.stats import ttest_ind\n",
        "\n",
        "# Simulate random data\n",
        "np.random.seed(42)\n",
        "group1 = np.random.normal(loc=50, scale=5, size=40)  # mean=50, sd=5\n",
        "group2 = np.random.normal(loc=52, scale=5, size=40)  # mean=52, sd=5\n",
        "\n",
        "# Perform two-sample t-test (independent)\n",
        "t_stat, p_value = ttest_ind(group1, group2)\n",
        "\n",
        "print(f\"T-test statistic: {t_stat:.4f}\")\n",
        "print(f\"P-value: {p_value:.4f}\")\n",
        "\n",
        "alpha = 0.05\n",
        "if p_value < alpha:\n",
        "    print(\"Reject null hypothesis: Means are significantly different.\")\n",
        "else:\n",
        "    print(\"Fail to reject null hypothesis: No evidence of difference in means.\")\n"
      ],
      "metadata": {
        "colab": {
          "base_uri": "https://localhost:8080/"
        },
        "id": "nSHuzr_qb_zF",
        "outputId": "e453f951-6c13-4604-e72d-5d252cbfd0a1"
      },
      "execution_count": 27,
      "outputs": [
        {
          "output_type": "stream",
          "name": "stdout",
          "text": [
            "T-test statistic: -2.7500\n",
            "P-value: 0.0074\n",
            "Reject null hypothesis: Means are significantly different.\n"
          ]
        }
      ]
    },
    {
      "cell_type": "markdown",
      "source": [
        "QUES 24 -  Perform a hypothesis test for population variance using a Chi-square distribution and interpret the results"
      ],
      "metadata": {
        "id": "JKubaFW3cDrq"
      }
    },
    {
      "cell_type": "code",
      "source": [
        "import numpy as np\n",
        "from scipy.stats import chi2\n",
        "\n",
        "def variance_hypothesis_test(sample, hypothesized_variance, alpha=0.05, alternative='two-sided'):\n",
        "    \"\"\"\n",
        "    Perform hypothesis test for population variance using Chi-square distribution.\n",
        "\n",
        "    Parameters:\n",
        "        sample (array-like): sample data\n",
        "        hypothesized_variance (float): variance under null hypothesis\n",
        "        alpha (float): significance level\n",
        "        alternative (str): 'two-sided', 'less', or 'greater'\n",
        "\n",
        "    Returns:\n",
        "        dict: test statistic, critical values, p-value, and conclusion\n",
        "    \"\"\"\n",
        "    n = len(sample)\n",
        "    sample_var = np.var(sample, ddof=1)\n",
        "\n",
        "    chi2_stat = (n - 1) * sample_var / hypothesized_variance\n",
        "    df = n - 1\n",
        "\n",
        "    if alternative == 'two-sided':\n",
        "        # Two-tailed critical values\n",
        "        lower_crit = chi2.ppf(alpha / 2, df)\n",
        "        upper_crit = chi2.ppf(1 - alpha / 2, df)\n",
        "        p_value = 2 * min(chi2.cdf(chi2_stat, df), 1 - chi2.cdf(chi2_stat, df))\n",
        "        reject = (chi2_stat < lower_crit) or (chi2_stat > upper_crit)\n",
        "\n",
        "    elif alternative == 'less':\n",
        "        # Left-tailed test\n",
        "        lower_crit = chi2.ppf(alpha, df)\n",
        "        p_value = chi2.cdf(chi2_stat, df)\n",
        "        reject = chi2_stat < lower_crit\n",
        "        upper_crit = None\n",
        "\n",
        "    else:  # alternative == 'greater'\n",
        "        # Right-tailed test\n",
        "        upper_crit = chi2.ppf(1 - alpha, df)\n",
        "        p_value = 1 - chi2.cdf(chi2_stat, df)\n",
        "        reject = chi2_stat > upper_crit\n",
        "        lower_crit = None\n",
        "\n",
        "    conclusion = \"Reject null hypothesis: population variance differs from hypothesized.\"\n",
        "    if not reject:\n",
        "        conclusion = \"Fail to reject null hypothesis: insufficient evidence to say variance differs.\"\n",
        "\n",
        "    return {\n",
        "        'chi2_statistic': chi2_stat,\n",
        "        'degrees_of_freedom': df,\n",
        "        'critical_value_lower': lower_crit,\n",
        "        'critical_value_upper': upper_crit,\n",
        "        'p_value': p_value,\n",
        "        'conclusion': conclusion\n",
        "    }\n",
        "\n",
        "# Example usage\n",
        "np.random.seed(123)\n",
        "sample_data = np.random.normal(loc=0, scale=4, size=25)  # population variance = 16 (4^2)\n",
        "hypothesized_var = 16  # test if sample variance equals population variance 16\n",
        "\n",
        "result = variance_hypothesis_test(sample_data, hypothesized_var, alpha=0.05, alternative='two-sided')\n",
        "\n",
        "print(\"Chi-square Variance Test Results:\")\n",
        "for key, val in result.items():\n",
        "    if isinstance(val, float):\n",
        "        print(f\"{key}: {val:.4f}\")\n",
        "    else:\n",
        "        print(f\"{key}: {val}\")\n"
      ],
      "metadata": {
        "colab": {
          "base_uri": "https://localhost:8080/"
        },
        "id": "AyvYKy-scK6T",
        "outputId": "f35641e2-0868-4aad-a84d-d51a5c608151"
      },
      "execution_count": 28,
      "outputs": [
        {
          "output_type": "stream",
          "name": "stdout",
          "text": [
            "Chi-square Variance Test Results:\n",
            "chi2_statistic: 36.4102\n",
            "degrees_of_freedom: 24\n",
            "critical_value_lower: 12.4012\n",
            "critical_value_upper: 39.3641\n",
            "p_value: 0.1001\n",
            "conclusion: Fail to reject null hypothesis: insufficient evidence to say variance differs.\n"
          ]
        }
      ]
    },
    {
      "cell_type": "markdown",
      "source": [
        "QUES 25 - Write a Python script to perform a Z-test for comparing proportions between two datasets or groups"
      ],
      "metadata": {
        "id": "G08RSJL5cOM3"
      }
    },
    {
      "cell_type": "code",
      "source": [
        "import numpy as np\n",
        "from statsmodels.stats.proportion import proportions_ztest\n",
        "\n",
        "def two_proportion_z_test(count1, nobs1, count2, nobs2, alpha=0.05, alternative='two-sided'):\n",
        "    \"\"\"\n",
        "    Perform two-proportion Z-test.\n",
        "\n",
        "    Parameters:\n",
        "        count1 (int): number of successes in group 1\n",
        "        nobs1 (int): total observations in group 1\n",
        "        count2 (int): number of successes in group 2\n",
        "        nobs2 (int): total observations in group 2\n",
        "        alpha (float): significance level (default 0.05)\n",
        "        alternative (str): 'two-sided', 'smaller', or 'larger'\n",
        "\n",
        "    Returns:\n",
        "        dict: z_statistic, p_value, conclusion\n",
        "    \"\"\"\n",
        "    counts = np.array([count1, count2])\n",
        "    nobs = np.array([nobs1, nobs2])\n",
        "\n",
        "    z_stat, p_value = proportions_ztest(counts, nobs, alternative=alternative)\n",
        "\n",
        "    conclusion = \"Fail to reject null hypothesis: no significant difference in proportions.\"\n",
        "    if p_value < alpha:\n",
        "        conclusion = \"Reject null hypothesis: significant difference in proportions.\"\n",
        "\n",
        "    return {\n",
        "        'z_statistic': z_stat,\n",
        "        'p_value': p_value,\n",
        "        'conclusion': conclusion\n",
        "    }\n",
        "\n",
        "# Example usage\n",
        "result = two_proportion_z_test(count1=45, nobs1=100, count2=30, nobs2=100)\n",
        "\n",
        "print(f\"Z-statistic: {result['z_statistic']:.4f}\")\n",
        "print(f\"P-value: {result['p_value']:.4f}\")\n",
        "print(result['conclusion'])\n"
      ],
      "metadata": {
        "colab": {
          "base_uri": "https://localhost:8080/"
        },
        "id": "EWzDRUtJcVCj",
        "outputId": "bc5790c2-d82e-4dff-cac0-bdd50d7d78e4"
      },
      "execution_count": 29,
      "outputs": [
        {
          "output_type": "stream",
          "name": "stdout",
          "text": [
            "Z-statistic: 2.1909\n",
            "P-value: 0.0285\n",
            "Reject null hypothesis: significant difference in proportions.\n"
          ]
        }
      ]
    },
    {
      "cell_type": "markdown",
      "source": [
        "QUES 26 -  Implement an F-test for comparing the variances of two datasets, then interpret and visualize the results"
      ],
      "metadata": {
        "id": "1-ZRfXRvcYcl"
      }
    },
    {
      "cell_type": "code",
      "source": [
        "import numpy as np\n",
        "from scipy.stats import f\n",
        "import matplotlib.pyplot as plt\n",
        "\n",
        "def f_test_variance(sample1, sample2, alpha=0.05):\n",
        "    \"\"\"\n",
        "    Perform F-test to compare variances of two samples.\n",
        "\n",
        "    Parameters:\n",
        "        sample1, sample2: array-like data samples\n",
        "        alpha: significance level\n",
        "\n",
        "    Returns:\n",
        "        dict with F statistic, critical values, p-value, and conclusion\n",
        "    \"\"\"\n",
        "    var1 = np.var(sample1, ddof=1)\n",
        "    var2 = np.var(sample2, ddof=1)\n",
        "    n1, n2 = len(sample1), len(sample2)\n",
        "\n",
        "    # Compute F-statistic (larger variance numerator)\n",
        "    if var1 > var2:\n",
        "        F = var1 / var2\n",
        "        dfn = n1 - 1  # numerator degrees of freedom\n",
        "        dfd = n2 - 1  # denominator degrees of freedom\n",
        "    else:\n",
        "        F = var2 / var1\n",
        "        dfn = n2 - 1\n",
        "        dfd = n1 - 1\n",
        "\n",
        "    # Critical values for two-tailed test\n",
        "    lower_crit = f.ppf(alpha / 2, dfn, dfd)\n",
        "    upper_crit = f.ppf(1 - alpha / 2, dfn, dfd)\n",
        "\n",
        "    # Two-tailed p-value\n",
        "    if F > 1:\n",
        "        p_value = 2 * (1 - f.cdf(F, dfn, dfd))\n",
        "    else:\n",
        "        p_value = 2 * f.cdf(F, dfn, dfd)\n",
        "\n",
        "    # Adjust p-value if >1 (possible due to doubling)\n",
        "    p_value = min(p_value, 1.0)\n",
        "\n",
        "    reject = (F < lower_crit) or (F > upper_crit)\n",
        "\n",
        "    conclusion = \"Reject null hypothesis: variances are significantly different.\"\n",
        "    if not reject:\n",
        "        conclusion = \"Fail to reject null hypothesis: no significant difference in variances.\"\n",
        "\n",
        "    return {\n",
        "        'F_statistic': F,\n",
        "        'dfn': dfn,\n",
        "        'dfd': dfd,\n",
        "        'lower_critical_value': lower_crit,\n",
        "        'upper_critical_value': upper_crit,\n",
        "        'p_value': p_value,\n",
        "        'conclusion': conclusion\n",
        "    }\n",
        "\n",
        "def plot_f_distribution(F_stat, dfn, dfd, alpha=0.05):\n",
        "    \"\"\"\n",
        "    Plot the F-distribution with critical regions and the F test statistic.\n",
        "    \"\"\"\n",
        "    x = np.linspace(0, 5, 500)\n",
        "    y = f.pdf(x, dfn, dfd)\n",
        "\n",
        "    lower_crit = f.ppf(alpha / 2, dfn, dfd)\n",
        "    upper_crit = f.ppf(1 - alpha / 2, dfn, dfd)\n",
        "\n",
        "    plt.figure(figsize=(8,5))\n",
        "    plt.plot(x, y, label=f'F-distribution (dfn={dfn}, dfd={dfd})', color='blue')\n",
        "\n",
        "    # Shade critical regions\n",
        "    x_fill_lower = np.linspace(0, lower_crit, 100)\n",
        "    x_fill_upper = np.linspace(upper_crit, 5, 100)\n",
        "    plt.fill_between(x_fill_lower, 0, f.pdf(x_fill_lower, dfn, dfd), color='red', alpha=0.5, label='Critical region (lower tail)')\n",
        "    plt.fill_between(x_fill_upper, 0, f.pdf(x_fill_upper, dfn, dfd), color='red', alpha=0.5, label='Critical region (upper tail)')\n",
        "\n",
        "    # Plot test statistic\n",
        "    plt.axvline(F_stat, color='green', linestyle='--', linewidth=2, label=f'F statistic = {F_stat:.3f}')\n",
        "\n",
        "    plt.title('F-distribution with Test Statistic and Critical Regions')\n",
        "    plt.xlabel('F value')\n",
        "    plt.ylabel('Probability Density')\n",
        "    plt.legend()\n",
        "    plt.grid(True)\n",
        "    plt.show()\n",
        "\n",
        "\n",
        "# Example usage:\n",
        "np.random.seed(100)\n",
        "sample1 = np.random.normal(0, 5, 40)  # variance ~ 25\n",
        "sample2 = np.random.normal(0, 3, 35)  # variance ~ 9\n",
        "\n",
        "result = f_test_variance(sample1, sample2)\n",
        "\n",
        "print(\"F-test for Equality of Variances Results:\")\n",
        "for k, v in result.items():\n",
        "    if isinstance(v, float):\n",
        "        print(f\"{k}: {v:.4f}\")\n",
        "    else:\n",
        "        print(f\"{k}: {v}\")\n",
        "\n",
        "plot_f_distribution(result['F_statistic'], result['dfn'], result['dfd'])\n"
      ],
      "metadata": {
        "colab": {
          "base_uri": "https://localhost:8080/",
          "height": 626
        },
        "id": "QVO94V8Tchj2",
        "outputId": "d9fc4576-7752-4195-8d6d-8627fdf421b8"
      },
      "execution_count": 30,
      "outputs": [
        {
          "output_type": "stream",
          "name": "stdout",
          "text": [
            "F-test for Equality of Variances Results:\n",
            "F_statistic: 2.4181\n",
            "dfn: 39\n",
            "dfd: 34\n",
            "lower_critical_value: 0.5204\n",
            "upper_critical_value: 1.9508\n",
            "p_value: 0.0102\n",
            "conclusion: Reject null hypothesis: variances are significantly different.\n"
          ]
        },
        {
          "output_type": "display_data",
          "data": {
            "text/plain": [
              "<Figure size 800x500 with 1 Axes>"
            ],
            "image/png": "[encoded data removed]"
          },
          "metadata": {}
        }
      ]
    },
    {
      "cell_type": "markdown",
      "source": [
        "QUES 27 -  Perform a Chi-square test for goodness of fit with simulated data and analyze the results"
      ],
      "metadata": {
        "id": "KyTcfJ5LclZN"
      }
    },
    {
      "cell_type": "code",
      "source": [
        "import numpy as np\n",
        "from scipy.stats import chisquare\n",
        "\n",
        "# Simulate observed categorical data (e.g., counts in 4 categories)\n",
        "np.random.seed(42)\n",
        "observed = np.random.multinomial(100, [0.25, 0.25, 0.25, 0.25])  # Equal expected probs\n",
        "print(\"Observed counts:\", observed)\n",
        "\n",
        "# Define expected proportions (hypothesized distribution)\n",
        "expected_probs = np.array([0.20, 0.30, 0.25, 0.25])\n",
        "expected = expected_probs * observed.sum()\n",
        "print(\"Expected counts:\", expected)\n",
        "\n",
        "# Perform Chi-square goodness-of-fit test\n",
        "chi2_stat, p_value = chisquare(f_obs=observed, f_exp=expected)\n",
        "\n",
        "print(f\"\\nChi-square statistic: {chi2_stat:.4f}\")\n",
        "print(f\"P-value: {p_value:.4f}\")\n",
        "\n",
        "alpha = 0.05\n",
        "if p_value < alpha:\n",
        "    print(\"Reject null hypothesis: Observed distribution differs significantly from expected.\")\n",
        "else:\n",
        "    print(\"Fail to reject null hypothesis: No significant difference from expected distribution.\")\n"
      ],
      "metadata": {
        "colab": {
          "base_uri": "https://localhost:8080/"
        },
        "id": "5Q7_jmWacq42",
        "outputId": "dda602d7-b335-4cde-bb72-be227ee69995"
      },
      "execution_count": 31,
      "outputs": [
        {
          "output_type": "stream",
          "name": "stdout",
          "text": [
            "Observed counts: [24 32 24 20]\n",
            "Expected counts: [20. 30. 25. 25.]\n",
            "\n",
            "Chi-square statistic: 1.9733\n",
            "P-value: 0.5780\n",
            "Fail to reject null hypothesis: No significant difference from expected distribution.\n"
          ]
        }
      ]
    }
  ]
}